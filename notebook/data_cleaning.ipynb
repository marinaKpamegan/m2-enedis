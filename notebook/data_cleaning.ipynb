{
 "cells": [
  {
   "cell_type": "markdown",
   "metadata": {},
   "source": [
    "### Importation - Inspection"
   ]
  },
  {
   "cell_type": "code",
   "execution_count": 5,
   "metadata": {},
   "outputs": [],
   "source": [
    "import os\n",
    "import pandas as pd\n",
    "pd.options.display.max_rows = 20\n",
    "pd.options.display.max_columns = 20"
   ]
  },
  {
   "cell_type": "code",
   "execution_count": 6,
   "metadata": {},
   "outputs": [
    {
     "name": "stderr",
     "output_type": "stream",
     "text": [
      "C:\\Users\\Evidya\\AppData\\Local\\Temp\\ipykernel_20336\\4050655527.py:1: DtypeWarning: Columns (80,100,111,112,132,133) have mixed types. Specify dtype option on import or set low_memory=False.\n",
      "  logements_neufs = pd.read_csv(os.path.join('../data','raw','neufs.csv'))\n",
      "C:\\Users\\Evidya\\AppData\\Local\\Temp\\ipykernel_20336\\4050655527.py:2: DtypeWarning: Columns (159,191,202,208,214,215,218,219,220,221,228,232) have mixed types. Specify dtype option on import or set low_memory=False.\n",
      "  logements_existants = pd.read_csv(os.path.join('../data','raw','existents.csv'))\n"
     ]
    }
   ],
   "source": [
    "logements_neufs = pd.read_csv(os.path.join('../data','raw','neufs.csv'))\n",
    "logements_existants = pd.read_csv(os.path.join('../data','raw','existents.csv'))"
   ]
  },
  {
   "cell_type": "code",
   "execution_count": 7,
   "metadata": {},
   "outputs": [
    {
     "name": "stdout",
     "output_type": "stream",
     "text": [
      "Dimensions du dataset logements_neufs : (59213, 135)\n",
      "Dimensions du dataset logements_existants : (398114, 235)\n"
     ]
    }
   ],
   "source": [
    "# Afficher les dimensions des deux datasets\n",
    "print(\"Dimensions du dataset logements_neufs :\", logements_neufs.shape)\n",
    "print(\"Dimensions du dataset logements_existants :\", logements_existants.shape)"
   ]
  },
  {
   "cell_type": "code",
   "execution_count": 8,
   "metadata": {},
   "outputs": [],
   "source": [
    "# Ajouter la colonne 'Logement' avec la valeur 'neuf' dans le dataset logements_neufs\n",
    "logements_neufs['Logement'] = 'neuf'\n",
    "\n",
    "# Ajouter la colonne 'Logement' avec la valeur 'ancien' dans le dataset logements_existants\n",
    "logements_existants['Logement'] = 'ancien'"
   ]
  },
  {
   "cell_type": "code",
   "execution_count": 9,
   "metadata": {},
   "outputs": [],
   "source": [
    "# Convertion de la colonne \"Date_réception_DPE\" au format datetime\n",
    "logements_neufs[\"Date_réception_DPE\"] = pd.to_datetime(logements_neufs[\"Date_réception_DPE\"], errors='coerce')\n",
    "\n",
    "logements_neufs[\"Année_construction\"] = logements_neufs[\"Date_réception_DPE\"].apply(lambda x : x.year)"
   ]
  },
  {
   "cell_type": "code",
   "execution_count": 10,
   "metadata": {},
   "outputs": [],
   "source": [
    "import numpy as np\n",
    "\n",
    "distribution = logements_existants['Année_construction'].value_counts(normalize=True)\n",
    "\n",
    "# Remplacer les valeurs manquantes en tirant aléatoirement basé sur la distribution\n",
    "logements_existants['Année_construction'] = logements_existants['Année_construction'].apply(\n",
    "    lambda x: np.random.choice(distribution.index, p=distribution.values) if pd.isnull(x) else x\n",
    ")"
   ]
  },
  {
   "cell_type": "code",
   "execution_count": 11,
   "metadata": {},
   "outputs": [
    {
     "data": {
      "text/html": [
       "<div>\n",
       "<style scoped>\n",
       "    .dataframe tbody tr th:only-of-type {\n",
       "        vertical-align: middle;\n",
       "    }\n",
       "\n",
       "    .dataframe tbody tr th {\n",
       "        vertical-align: top;\n",
       "    }\n",
       "\n",
       "    .dataframe thead th {\n",
       "        text-align: right;\n",
       "    }\n",
       "</style>\n",
       "<table border=\"1\" class=\"dataframe\">\n",
       "  <thead>\n",
       "    <tr style=\"text-align: right;\">\n",
       "      <th></th>\n",
       "      <th>Conso_chauffage_dépensier_é_finale</th>\n",
       "      <th>Emission_GES_ECS</th>\n",
       "      <th>Type_énergie_n°1</th>\n",
       "      <th>Nom__commune_(BAN)</th>\n",
       "      <th>Emission_GES_chauffage</th>\n",
       "      <th>Date_réception_DPE</th>\n",
       "      <th>Coût_ECS_énergie_n°1</th>\n",
       "      <th>Conso_ECS_é_finale</th>\n",
       "      <th>Coût_total_5_usages</th>\n",
       "      <th>Emission_GES_5_usages</th>\n",
       "      <th>...</th>\n",
       "      <th>Déperditions_portes</th>\n",
       "      <th>Deperditions_baies_vitrées</th>\n",
       "      <th>Déperditions_ponts_thermiques</th>\n",
       "      <th>Besoin_chauffage</th>\n",
       "      <th>Deperditions_enveloppe</th>\n",
       "      <th>Cage_d'escalier</th>\n",
       "      <th>Classe_inertie_bâtiment</th>\n",
       "      <th>Surface_tertiaire_immeuble</th>\n",
       "      <th>Logement</th>\n",
       "      <th>Année_construction</th>\n",
       "    </tr>\n",
       "  </thead>\n",
       "  <tbody>\n",
       "    <tr>\n",
       "      <th>0</th>\n",
       "      <td>2146.0</td>\n",
       "      <td>37.4</td>\n",
       "      <td>Électricité</td>\n",
       "      <td>Saint-Brieuc</td>\n",
       "      <td>146.2</td>\n",
       "      <td>2022-04-01 00:00:00</td>\n",
       "      <td>113.8</td>\n",
       "      <td>575.0</td>\n",
       "      <td>523.4</td>\n",
       "      <td>198.4</td>\n",
       "      <td>...</td>\n",
       "      <td>NaN</td>\n",
       "      <td>NaN</td>\n",
       "      <td>NaN</td>\n",
       "      <td>NaN</td>\n",
       "      <td>NaN</td>\n",
       "      <td>NaN</td>\n",
       "      <td>NaN</td>\n",
       "      <td>NaN</td>\n",
       "      <td>neuf</td>\n",
       "      <td>2022.0</td>\n",
       "    </tr>\n",
       "    <tr>\n",
       "      <th>1</th>\n",
       "      <td>1352.8</td>\n",
       "      <td>45.1</td>\n",
       "      <td>Électricité</td>\n",
       "      <td>Saint-Brieuc</td>\n",
       "      <td>92.1</td>\n",
       "      <td>2022-06-19 00:00:00</td>\n",
       "      <td>144.0</td>\n",
       "      <td>693.4</td>\n",
       "      <td>461.6</td>\n",
       "      <td>161.8</td>\n",
       "      <td>...</td>\n",
       "      <td>NaN</td>\n",
       "      <td>NaN</td>\n",
       "      <td>NaN</td>\n",
       "      <td>NaN</td>\n",
       "      <td>NaN</td>\n",
       "      <td>NaN</td>\n",
       "      <td>NaN</td>\n",
       "      <td>NaN</td>\n",
       "      <td>neuf</td>\n",
       "      <td>2022.0</td>\n",
       "    </tr>\n",
       "    <tr>\n",
       "      <th>2</th>\n",
       "      <td>1361.5</td>\n",
       "      <td>51.0</td>\n",
       "      <td>Électricité</td>\n",
       "      <td>Saint-Brieuc</td>\n",
       "      <td>92.7</td>\n",
       "      <td>2022-06-07 00:00:00</td>\n",
       "      <td>164.9</td>\n",
       "      <td>785.3</td>\n",
       "      <td>451.3</td>\n",
       "      <td>156.5</td>\n",
       "      <td>...</td>\n",
       "      <td>NaN</td>\n",
       "      <td>NaN</td>\n",
       "      <td>NaN</td>\n",
       "      <td>NaN</td>\n",
       "      <td>NaN</td>\n",
       "      <td>NaN</td>\n",
       "      <td>NaN</td>\n",
       "      <td>NaN</td>\n",
       "      <td>neuf</td>\n",
       "      <td>2022.0</td>\n",
       "    </tr>\n",
       "    <tr>\n",
       "      <th>3</th>\n",
       "      <td>2395.9</td>\n",
       "      <td>37.2</td>\n",
       "      <td>Électricité</td>\n",
       "      <td>Saint-Brieuc</td>\n",
       "      <td>163.2</td>\n",
       "      <td>2022-04-27 00:00:00</td>\n",
       "      <td>110.8</td>\n",
       "      <td>571.6</td>\n",
       "      <td>561.0</td>\n",
       "      <td>217.7</td>\n",
       "      <td>...</td>\n",
       "      <td>NaN</td>\n",
       "      <td>NaN</td>\n",
       "      <td>NaN</td>\n",
       "      <td>NaN</td>\n",
       "      <td>NaN</td>\n",
       "      <td>NaN</td>\n",
       "      <td>NaN</td>\n",
       "      <td>NaN</td>\n",
       "      <td>neuf</td>\n",
       "      <td>2022.0</td>\n",
       "    </tr>\n",
       "    <tr>\n",
       "      <th>4</th>\n",
       "      <td>2146.0</td>\n",
       "      <td>37.4</td>\n",
       "      <td>Électricité</td>\n",
       "      <td>Saint-Brieuc</td>\n",
       "      <td>146.2</td>\n",
       "      <td>2022-04-01 00:00:00</td>\n",
       "      <td>113.8</td>\n",
       "      <td>575.0</td>\n",
       "      <td>523.4</td>\n",
       "      <td>198.4</td>\n",
       "      <td>...</td>\n",
       "      <td>NaN</td>\n",
       "      <td>NaN</td>\n",
       "      <td>NaN</td>\n",
       "      <td>NaN</td>\n",
       "      <td>NaN</td>\n",
       "      <td>NaN</td>\n",
       "      <td>NaN</td>\n",
       "      <td>NaN</td>\n",
       "      <td>neuf</td>\n",
       "      <td>2022.0</td>\n",
       "    </tr>\n",
       "  </tbody>\n",
       "</table>\n",
       "<p>5 rows × 133 columns</p>\n",
       "</div>"
      ],
      "text/plain": [
       "   Conso_chauffage_dépensier_é_finale  Emission_GES_ECS Type_énergie_n°1  \\\n",
       "0                              2146.0              37.4      Électricité   \n",
       "1                              1352.8              45.1      Électricité   \n",
       "2                              1361.5              51.0      Électricité   \n",
       "3                              2395.9              37.2      Électricité   \n",
       "4                              2146.0              37.4      Électricité   \n",
       "\n",
       "  Nom__commune_(BAN)  Emission_GES_chauffage   Date_réception_DPE  \\\n",
       "0       Saint-Brieuc                   146.2  2022-04-01 00:00:00   \n",
       "1       Saint-Brieuc                    92.1  2022-06-19 00:00:00   \n",
       "2       Saint-Brieuc                    92.7  2022-06-07 00:00:00   \n",
       "3       Saint-Brieuc                   163.2  2022-04-27 00:00:00   \n",
       "4       Saint-Brieuc                   146.2  2022-04-01 00:00:00   \n",
       "\n",
       "   Coût_ECS_énergie_n°1  Conso_ECS_é_finale  Coût_total_5_usages  \\\n",
       "0                 113.8               575.0                523.4   \n",
       "1                 144.0               693.4                461.6   \n",
       "2                 164.9               785.3                451.3   \n",
       "3                 110.8               571.6                561.0   \n",
       "4                 113.8               575.0                523.4   \n",
       "\n",
       "   Emission_GES_5_usages  ...  Déperditions_portes  \\\n",
       "0                  198.4  ...                  NaN   \n",
       "1                  161.8  ...                  NaN   \n",
       "2                  156.5  ...                  NaN   \n",
       "3                  217.7  ...                  NaN   \n",
       "4                  198.4  ...                  NaN   \n",
       "\n",
       "   Deperditions_baies_vitrées  Déperditions_ponts_thermiques Besoin_chauffage  \\\n",
       "0                         NaN                            NaN              NaN   \n",
       "1                         NaN                            NaN              NaN   \n",
       "2                         NaN                            NaN              NaN   \n",
       "3                         NaN                            NaN              NaN   \n",
       "4                         NaN                            NaN              NaN   \n",
       "\n",
       "   Deperditions_enveloppe  Cage_d'escalier  Classe_inertie_bâtiment  \\\n",
       "0                     NaN              NaN                      NaN   \n",
       "1                     NaN              NaN                      NaN   \n",
       "2                     NaN              NaN                      NaN   \n",
       "3                     NaN              NaN                      NaN   \n",
       "4                     NaN              NaN                      NaN   \n",
       "\n",
       "  Surface_tertiaire_immeuble  Logement  Année_construction  \n",
       "0                        NaN      neuf              2022.0  \n",
       "1                        NaN      neuf              2022.0  \n",
       "2                        NaN      neuf              2022.0  \n",
       "3                        NaN      neuf              2022.0  \n",
       "4                        NaN      neuf              2022.0  \n",
       "\n",
       "[5 rows x 133 columns]"
      ]
     },
     "execution_count": 11,
     "metadata": {},
     "output_type": "execute_result"
    }
   ],
   "source": [
    "# Étape 1 : Lister les colonnes des deux DataFrames\n",
    "colonnes_communes = logements_neufs.columns.intersection(logements_existants.columns)\n",
    "\n",
    "# Étape 3 : Sélectionner uniquement les colonnes communes\n",
    "logements_neufs_communs = logements_neufs[colonnes_communes]\n",
    "logements_existants_communs = logements_existants[colonnes_communes]\n",
    "\n",
    "# Étape 4 : Concaténer les DataFrames sur les colonnes communes\n",
    "df = pd.concat([logements_neufs_communs, logements_existants_communs], ignore_index=True)\n",
    "\n",
    "# Afficher les dimensions du DataFrame fusionné pour vérifier\n",
    "df.head()"
   ]
  },
  {
   "cell_type": "code",
   "execution_count": 12,
   "metadata": {},
   "outputs": [
    {
     "name": "stdout",
     "output_type": "stream",
     "text": [
      "<class 'pandas.core.frame.DataFrame'>\n",
      "RangeIndex: 457327 entries, 0 to 457326\n",
      "Columns: 133 entries, Conso_chauffage_dépensier_é_finale to Année_construction\n",
      "dtypes: float64(75), int64(4), object(54)\n",
      "memory usage: 464.1+ MB\n"
     ]
    }
   ],
   "source": [
    "df.info()"
   ]
  },
  {
   "cell_type": "code",
   "execution_count": 13,
   "metadata": {},
   "outputs": [
    {
     "data": {
      "text/plain": [
       "Conso_chauffage_dépensier_é_finale    0.000052\n",
       "Emission_GES_ECS                      0.000004\n",
       "Type_énergie_n°1                      0.000000\n",
       "Nom__commune_(BAN)                    0.000000\n",
       "Emission_GES_chauffage                0.000052\n",
       "                                        ...   \n",
       "Cage_d'escalier                       0.998957\n",
       "Classe_inertie_bâtiment               0.146066\n",
       "Surface_tertiaire_immeuble            0.998082\n",
       "Logement                              0.000000\n",
       "Année_construction                    0.000000\n",
       "Length: 133, dtype: float64"
      ]
     },
     "execution_count": 13,
     "metadata": {},
     "output_type": "execute_result"
    }
   ],
   "source": [
    "# Calculer le pourcentage de valeurs manquantes pour chaque colonne\n",
    "missing_percentages = df.isnull().mean()\n",
    "colonnes_a_fort_taux_manquant = missing_percentages[missing_percentages > 0.4].index.tolist()\n",
    "missing_percentages"
   ]
  },
  {
   "cell_type": "code",
   "execution_count": 14,
   "metadata": {},
   "outputs": [
    {
     "data": {
      "text/plain": [
       "False    116\n",
       "True      17\n",
       "Name: count, dtype: int64"
      ]
     },
     "execution_count": 14,
     "metadata": {},
     "output_type": "execute_result"
    }
   ],
   "source": [
    "# Proportion des variables ayant au moins 60% de valeurs manquantes\n",
    "(missing_percentages > 0.60).value_counts()"
   ]
  },
  {
   "cell_type": "code",
   "execution_count": 15,
   "metadata": {},
   "outputs": [
    {
     "data": {
      "text/plain": [
       "(457327, 116)"
      ]
     },
     "execution_count": 15,
     "metadata": {},
     "output_type": "execute_result"
    }
   ],
   "source": [
    "# Supprimer les colonnes ayant plus de 20% de valeurs manquantes\n",
    "df = df.loc[:, missing_percentages < 0.6]\n",
    "# df = df[df.columns[(missing_percentages < 0.6)]] # Ligne de code alternative pour faire la même chose que celle ci-dessus\n",
    "df.shape"
   ]
  },
  {
   "cell_type": "code",
   "execution_count": 16,
   "metadata": {},
   "outputs": [],
   "source": [
    "def missing_percentages(data, threshold=0.0):\n",
    "    valeurs_manquantes = data.isnull().mean()\n",
    "\n",
    "    # Filtrer pour n'afficher que les colonnes ayant des valeurs manquantes\n",
    "    colonnes_avec_valeurs_manquantes = valeurs_manquantes[valeurs_manquantes > threshold]\n",
    "    return colonnes_avec_valeurs_manquantes.sort_values()\n",
    "\n"
   ]
  },
  {
   "cell_type": "code",
   "execution_count": 17,
   "metadata": {},
   "outputs": [
    {
     "data": {
      "text/plain": [
       "Déperditions_renouvellement_air    0.134145\n",
       "Deperditions_enveloppe             0.134145\n",
       "Déperditions_murs                  0.134145\n",
       "Besoin_ECS                         0.134147\n",
       "Deperditions_baies_vitrées         0.134147\n",
       "                                     ...   \n",
       "Nombre_appartement                 0.463727\n",
       "Type_installation_chauffage        0.469310\n",
       "Type_installation_ECS_(général)    0.469310\n",
       "Complément_d'adresse_bâtiment      0.491322\n",
       "Complément_d'adresse_logement      0.510029\n",
       "Length: 29, dtype: float64"
      ]
     },
     "execution_count": 17,
     "metadata": {},
     "output_type": "execute_result"
    }
   ],
   "source": [
    "missing_percentages(df, 0.1)"
   ]
  },
  {
   "cell_type": "code",
   "execution_count": 18,
   "metadata": {},
   "outputs": [
    {
     "data": {
      "text/plain": [
       "(457327, 101)"
      ]
     },
     "execution_count": 18,
     "metadata": {},
     "output_type": "execute_result"
    }
   ],
   "source": [
    "df = df.drop(columns=[\"_score\", \"_id\", \"Adresse_(BAN)\", 'Nom__rue_(BAN)', 'Nombre_niveau_logement', 'N°_département_(BAN)',\n",
    " 'N°_région_(BAN)', 'Identifiant__BAN', '_rand', '_i', 'N°_voie_(BAN)', 'Nombre_appartement', \"Nombre_appartement\", \"Complément_d'adresse_bâtiment\", \"Complément_d'adresse_logement\", \"N°DPE\"])\n",
    "df.shape\n",
    "\n"
   ]
  },
  {
   "cell_type": "code",
   "execution_count": 19,
   "metadata": {},
   "outputs": [],
   "source": [
    "quantitative_data = df.select_dtypes(exclude=['object'])\n",
    "qualitative_data = df.select_dtypes(include=['object'])"
   ]
  },
  {
   "cell_type": "markdown",
   "metadata": {},
   "source": [
    "### Evaluation des proportion des valeurs manquantes numériques"
   ]
  },
  {
   "cell_type": "code",
   "execution_count": 20,
   "metadata": {},
   "outputs": [
    {
     "data": {
      "image/png": "[encoded data removed]",
      "text/plain": [
       "<Figure size 1200x800 with 1 Axes>"
      ]
     },
     "metadata": {},
     "output_type": "display_data"
    }
   ],
   "source": [
    "import seaborn as sns\n",
    "import matplotlib.pyplot as plt \n",
    "\n",
    "plt.figure(figsize=(12, 8))\n",
    "sns.heatmap(quantitative_data.isnull(), cbar=False, cmap=\"viridis\")\n",
    "plt.title(\"Carte de chaleur des valeurs manquantes pour les variables quantitatives\")\n",
    "plt.show()\n"
   ]
  },
  {
   "cell_type": "code",
   "execution_count": 21,
   "metadata": {},
   "outputs": [
    {
     "data": {
      "text/html": [
       "<div>\n",
       "<style scoped>\n",
       "    .dataframe tbody tr th:only-of-type {\n",
       "        vertical-align: middle;\n",
       "    }\n",
       "\n",
       "    .dataframe tbody tr th {\n",
       "        vertical-align: top;\n",
       "    }\n",
       "\n",
       "    .dataframe thead th {\n",
       "        text-align: right;\n",
       "    }\n",
       "</style>\n",
       "<table border=\"1\" class=\"dataframe\">\n",
       "  <thead>\n",
       "    <tr style=\"text-align: right;\">\n",
       "      <th></th>\n",
       "      <th>N°_étage_appartement</th>\n",
       "      <th>Emission_GES_5_usages_énergie_n°2</th>\n",
       "    </tr>\n",
       "  </thead>\n",
       "  <tbody>\n",
       "    <tr>\n",
       "      <th>count</th>\n",
       "      <td>313088.000000</td>\n",
       "      <td>281850.000000</td>\n",
       "    </tr>\n",
       "    <tr>\n",
       "      <th>mean</th>\n",
       "      <td>0.067515</td>\n",
       "      <td>294.023054</td>\n",
       "    </tr>\n",
       "    <tr>\n",
       "      <th>std</th>\n",
       "      <td>0.465754</td>\n",
       "      <td>1295.227799</td>\n",
       "    </tr>\n",
       "    <tr>\n",
       "      <th>min</th>\n",
       "      <td>-4.000000</td>\n",
       "      <td>0.000000</td>\n",
       "    </tr>\n",
       "    <tr>\n",
       "      <th>25%</th>\n",
       "      <td>0.000000</td>\n",
       "      <td>17.300000</td>\n",
       "    </tr>\n",
       "    <tr>\n",
       "      <th>50%</th>\n",
       "      <td>0.000000</td>\n",
       "      <td>44.700000</td>\n",
       "    </tr>\n",
       "    <tr>\n",
       "      <th>75%</th>\n",
       "      <td>0.000000</td>\n",
       "      <td>151.300000</td>\n",
       "    </tr>\n",
       "    <tr>\n",
       "      <th>max</th>\n",
       "      <td>22.000000</td>\n",
       "      <td>136749.200000</td>\n",
       "    </tr>\n",
       "  </tbody>\n",
       "</table>\n",
       "</div>"
      ],
      "text/plain": [
       "       N°_étage_appartement  Emission_GES_5_usages_énergie_n°2\n",
       "count         313088.000000                      281850.000000\n",
       "mean               0.067515                         294.023054\n",
       "std                0.465754                        1295.227799\n",
       "min               -4.000000                           0.000000\n",
       "25%                0.000000                          17.300000\n",
       "50%                0.000000                          44.700000\n",
       "75%                0.000000                         151.300000\n",
       "max               22.000000                      136749.200000"
      ]
     },
     "execution_count": 21,
     "metadata": {},
     "output_type": "execute_result"
    }
   ],
   "source": [
    "quantitative_data[['N°_étage_appartement', \"Emission_GES_5_usages_énergie_n°2\"]].describe()"
   ]
  },
  {
   "cell_type": "code",
   "execution_count": 22,
   "metadata": {},
   "outputs": [],
   "source": [
    "quantitative_data.fillna(quantitative_data.median(), inplace=True)"
   ]
  },
  {
   "cell_type": "markdown",
   "metadata": {},
   "source": [
    "### Evaluation des données manquantes qualitatives"
   ]
  },
  {
   "cell_type": "code",
   "execution_count": 23,
   "metadata": {},
   "outputs": [
    {
     "data": {
      "text/html": [
       "<div>\n",
       "<style scoped>\n",
       "    .dataframe tbody tr th:only-of-type {\n",
       "        vertical-align: middle;\n",
       "    }\n",
       "\n",
       "    .dataframe tbody tr th {\n",
       "        vertical-align: top;\n",
       "    }\n",
       "\n",
       "    .dataframe thead th {\n",
       "        text-align: right;\n",
       "    }\n",
       "</style>\n",
       "<table border=\"1\" class=\"dataframe\">\n",
       "  <thead>\n",
       "    <tr style=\"text-align: right;\">\n",
       "      <th></th>\n",
       "      <th>Type_énergie_n°1</th>\n",
       "      <th>Nom__commune_(BAN)</th>\n",
       "      <th>Date_réception_DPE</th>\n",
       "      <th>Date_fin_validité_DPE</th>\n",
       "      <th>Type_bâtiment</th>\n",
       "      <th>_geopoint</th>\n",
       "      <th>Zone_climatique_</th>\n",
       "      <th>Date_visite_diagnostiqueur</th>\n",
       "      <th>Type_énergie_principale_chauffage</th>\n",
       "      <th>Date_établissement_DPE</th>\n",
       "      <th>...</th>\n",
       "      <th>Logement_traversant_(0/1)</th>\n",
       "      <th>Isolation_toiture_(0/1)</th>\n",
       "      <th>Indicateur_confort_été</th>\n",
       "      <th>Inertie_lourde_(0/1)</th>\n",
       "      <th>Type_installation_ECS_(général)</th>\n",
       "      <th>Type_installation_chauffage</th>\n",
       "      <th>Besoin_refroidissement</th>\n",
       "      <th>Besoin_ECS</th>\n",
       "      <th>Classe_inertie_bâtiment</th>\n",
       "      <th>Logement</th>\n",
       "    </tr>\n",
       "  </thead>\n",
       "  <tbody>\n",
       "    <tr>\n",
       "      <th>count</th>\n",
       "      <td>457327</td>\n",
       "      <td>457327</td>\n",
       "      <td>457327</td>\n",
       "      <td>457327</td>\n",
       "      <td>457327</td>\n",
       "      <td>457327</td>\n",
       "      <td>420433</td>\n",
       "      <td>457327</td>\n",
       "      <td>429436</td>\n",
       "      <td>457327</td>\n",
       "      <td>...</td>\n",
       "      <td>296244</td>\n",
       "      <td>295654</td>\n",
       "      <td>296244</td>\n",
       "      <td>289187</td>\n",
       "      <td>242699</td>\n",
       "      <td>242699</td>\n",
       "      <td>395418</td>\n",
       "      <td>395978</td>\n",
       "      <td>390527</td>\n",
       "      <td>457327</td>\n",
       "    </tr>\n",
       "    <tr>\n",
       "      <th>unique</th>\n",
       "      <td>13</td>\n",
       "      <td>1593</td>\n",
       "      <td>2232</td>\n",
       "      <td>1172</td>\n",
       "      <td>3</td>\n",
       "      <td>222682</td>\n",
       "      <td>8</td>\n",
       "      <td>1178</td>\n",
       "      <td>13</td>\n",
       "      <td>1173</td>\n",
       "      <td>...</td>\n",
       "      <td>2</td>\n",
       "      <td>2</td>\n",
       "      <td>3</td>\n",
       "      <td>2</td>\n",
       "      <td>3</td>\n",
       "      <td>3</td>\n",
       "      <td>2932</td>\n",
       "      <td>16830</td>\n",
       "      <td>4</td>\n",
       "      <td>2</td>\n",
       "    </tr>\n",
       "    <tr>\n",
       "      <th>top</th>\n",
       "      <td>Électricité</td>\n",
       "      <td>Rennes</td>\n",
       "      <td>2022-08-31</td>\n",
       "      <td>2034-03-31</td>\n",
       "      <td>appartement</td>\n",
       "      <td>48.53455700572217,-1.7986340166416317</td>\n",
       "      <td>H2a</td>\n",
       "      <td>2024-03-27</td>\n",
       "      <td>Électricité</td>\n",
       "      <td>2024-04-01</td>\n",
       "      <td>...</td>\n",
       "      <td>True</td>\n",
       "      <td>True</td>\n",
       "      <td>insuffisant</td>\n",
       "      <td>False</td>\n",
       "      <td>individuel</td>\n",
       "      <td>individuel</td>\n",
       "      <td>0</td>\n",
       "      <td>1201</td>\n",
       "      <td>Légère</td>\n",
       "      <td>ancien</td>\n",
       "    </tr>\n",
       "    <tr>\n",
       "      <th>freq</th>\n",
       "      <td>216554</td>\n",
       "      <td>53986</td>\n",
       "      <td>1893</td>\n",
       "      <td>1848</td>\n",
       "      <td>236860</td>\n",
       "      <td>1008</td>\n",
       "      <td>416942</td>\n",
       "      <td>1955</td>\n",
       "      <td>202999</td>\n",
       "      <td>1848</td>\n",
       "      <td>...</td>\n",
       "      <td>214082</td>\n",
       "      <td>190825</td>\n",
       "      <td>136325</td>\n",
       "      <td>222597</td>\n",
       "      <td>203941</td>\n",
       "      <td>169594</td>\n",
       "      <td>391993</td>\n",
       "      <td>1747</td>\n",
       "      <td>131703</td>\n",
       "      <td>398114</td>\n",
       "    </tr>\n",
       "  </tbody>\n",
       "</table>\n",
       "<p>4 rows × 35 columns</p>\n",
       "</div>"
      ],
      "text/plain": [
       "       Type_énergie_n°1 Nom__commune_(BAN) Date_réception_DPE  \\\n",
       "count            457327             457327             457327   \n",
       "unique               13               1593               2232   \n",
       "top         Électricité             Rennes         2022-08-31   \n",
       "freq             216554              53986               1893   \n",
       "\n",
       "       Date_fin_validité_DPE Type_bâtiment  \\\n",
       "count                 457327        457327   \n",
       "unique                  1172             3   \n",
       "top               2034-03-31   appartement   \n",
       "freq                    1848        236860   \n",
       "\n",
       "                                    _geopoint Zone_climatique_  \\\n",
       "count                                  457327           420433   \n",
       "unique                                 222682                8   \n",
       "top     48.53455700572217,-1.7986340166416317              H2a   \n",
       "freq                                     1008           416942   \n",
       "\n",
       "       Date_visite_diagnostiqueur Type_énergie_principale_chauffage  \\\n",
       "count                      457327                            429436   \n",
       "unique                       1178                                13   \n",
       "top                    2024-03-27                       Électricité   \n",
       "freq                         1955                            202999   \n",
       "\n",
       "       Date_établissement_DPE  ... Logement_traversant_(0/1)  \\\n",
       "count                  457327  ...                    296244   \n",
       "unique                   1173  ...                         2   \n",
       "top                2024-04-01  ...                      True   \n",
       "freq                     1848  ...                    214082   \n",
       "\n",
       "       Isolation_toiture_(0/1) Indicateur_confort_été Inertie_lourde_(0/1)  \\\n",
       "count                   295654                 296244               289187   \n",
       "unique                       2                      3                    2   \n",
       "top                       True            insuffisant                False   \n",
       "freq                    190825                 136325               222597   \n",
       "\n",
       "       Type_installation_ECS_(général) Type_installation_chauffage  \\\n",
       "count                           242699                      242699   \n",
       "unique                               3                           3   \n",
       "top                         individuel                  individuel   \n",
       "freq                            203941                      169594   \n",
       "\n",
       "       Besoin_refroidissement Besoin_ECS Classe_inertie_bâtiment Logement  \n",
       "count                  395418     395978                  390527   457327  \n",
       "unique                   2932      16830                       4        2  \n",
       "top                         0       1201                  Légère   ancien  \n",
       "freq                   391993       1747                  131703   398114  \n",
       "\n",
       "[4 rows x 35 columns]"
      ]
     },
     "execution_count": 23,
     "metadata": {},
     "output_type": "execute_result"
    }
   ],
   "source": [
    "qualitative_data.describe()"
   ]
  },
  {
   "cell_type": "code",
   "execution_count": 24,
   "metadata": {},
   "outputs": [
    {
     "data": {
      "text/plain": [
       "Adresse_brute                          0.000020\n",
       "Qualité_isolation_murs                 0.000197\n",
       "Qualité_isolation_plancher_bas         0.032259\n",
       "Type_énergie_principale_chauffage      0.060987\n",
       "Zone_climatique_                       0.080673\n",
       "Classe_altitude                        0.080673\n",
       "Besoin_ECS                             0.134147\n",
       "Besoin_refroidissement                 0.135371\n",
       "Classe_inertie_bâtiment                0.146066\n",
       "Protection_solaire_exterieure_(0/1)    0.352227\n",
       "Indicateur_confort_été                 0.352227\n",
       "Présence_brasseur_air_(0/1)            0.352227\n",
       "Logement_traversant_(0/1)              0.352227\n",
       "Isolation_toiture_(0/1)                0.353517\n",
       "Inertie_lourde_(0/1)                   0.367658\n",
       "Type_énergie_n°2                       0.383701\n",
       "Type_installation_chauffage            0.469310\n",
       "Type_installation_ECS_(général)        0.469310\n",
       "dtype: float64"
      ]
     },
     "execution_count": 24,
     "metadata": {},
     "output_type": "execute_result"
    }
   ],
   "source": [
    "missing_percentages(qualitative_data, 0)"
   ]
  },
  {
   "cell_type": "code",
   "execution_count": 25,
   "metadata": {},
   "outputs": [
    {
     "name": "stderr",
     "output_type": "stream",
     "text": [
      "C:\\Users\\Evidya\\AppData\\Local\\Temp\\ipykernel_20336\\169784855.py:2: FutureWarning: A value is trying to be set on a copy of a DataFrame or Series through chained assignment using an inplace method.\n",
      "The behavior will change in pandas 3.0. This inplace method will never work because the intermediate object on which we are setting values always behaves as a copy.\n",
      "\n",
      "For example, when doing 'df[col].method(value, inplace=True)', try using 'df.method({col: value}, inplace=True)' or df[col] = df[col].method(value) instead, to perform the operation inplace on the original object.\n",
      "\n",
      "\n",
      "  qualitative_data['Type_énergie_n°2'].fillna('Inconnu', inplace=True)\n",
      "C:\\Users\\Evidya\\AppData\\Local\\Temp\\ipykernel_20336\\169784855.py:3: FutureWarning: A value is trying to be set on a copy of a DataFrame or Series through chained assignment using an inplace method.\n",
      "The behavior will change in pandas 3.0. This inplace method will never work because the intermediate object on which we are setting values always behaves as a copy.\n",
      "\n",
      "For example, when doing 'df[col].method(value, inplace=True)', try using 'df.method({col: value}, inplace=True)' or df[col] = df[col].method(value) instead, to perform the operation inplace on the original object.\n",
      "\n",
      "\n",
      "  qualitative_data['Type_installation_chauffage'].fillna('Inconnu', inplace=True)\n",
      "C:\\Users\\Evidya\\AppData\\Local\\Temp\\ipykernel_20336\\169784855.py:4: FutureWarning: A value is trying to be set on a copy of a DataFrame or Series through chained assignment using an inplace method.\n",
      "The behavior will change in pandas 3.0. This inplace method will never work because the intermediate object on which we are setting values always behaves as a copy.\n",
      "\n",
      "For example, when doing 'df[col].method(value, inplace=True)', try using 'df.method({col: value}, inplace=True)' or df[col] = df[col].method(value) instead, to perform the operation inplace on the original object.\n",
      "\n",
      "\n",
      "  qualitative_data['Type_installation_ECS_(général)'].fillna('Inconnu', inplace=True)\n"
     ]
    }
   ],
   "source": [
    "# Remplacer les valeurs manquantes par une catégorie \"Inconnu\" pour certaines variables\n",
    "qualitative_data['Type_énergie_n°2'].fillna('Inconnu', inplace=True)\n",
    "qualitative_data['Type_installation_chauffage'].fillna('Inconnu', inplace=True)\n",
    "qualitative_data['Type_installation_ECS_(général)'].fillna('Inconnu', inplace=True)\n"
   ]
  },
  {
   "cell_type": "code",
   "execution_count": 26,
   "metadata": {},
   "outputs": [
    {
     "name": "stdout",
     "output_type": "stream",
     "text": [
      "Protection_solaire_exterieure_(0/1)\n",
      "False    153154\n",
      "True     143090\n",
      "Name: count, dtype: int64\n",
      "Indicateur_confort_été\n",
      "insuffisant    136325\n",
      "moyen          112876\n",
      "bon             47043\n",
      "Name: count, dtype: int64\n",
      "Présence_brasseur_air_(0/1)\n",
      "False    279910\n",
      "True      16334\n",
      "Name: count, dtype: int64\n",
      "Logement_traversant_(0/1)\n",
      "True     214082\n",
      "False     82162\n",
      "Name: count, dtype: int64\n",
      "Isolation_toiture_(0/1)\n",
      "True     190825\n",
      "False    104829\n",
      "Name: count, dtype: int64\n",
      "Inertie_lourde_(0/1)\n",
      "False    222597\n",
      "True      66590\n",
      "Name: count, dtype: int64\n"
     ]
    }
   ],
   "source": [
    "colonnes_binaires = ['Protection_solaire_exterieure_(0/1)', 'Indicateur_confort_été', \n",
    "            'Présence_brasseur_air_(0/1)', 'Logement_traversant_(0/1)', \n",
    "            'Isolation_toiture_(0/1)', 'Inertie_lourde_(0/1)']\n",
    "for col in colonnes_binaires:\n",
    "    print(qualitative_data[col].value_counts())"
   ]
  },
  {
   "cell_type": "code",
   "execution_count": 27,
   "metadata": {},
   "outputs": [
    {
     "name": "stderr",
     "output_type": "stream",
     "text": [
      "C:\\Users\\Evidya\\AppData\\Local\\Temp\\ipykernel_20336\\3522592556.py:2: FutureWarning: A value is trying to be set on a copy of a DataFrame or Series through chained assignment using an inplace method.\n",
      "The behavior will change in pandas 3.0. This inplace method will never work because the intermediate object on which we are setting values always behaves as a copy.\n",
      "\n",
      "For example, when doing 'df[col].method(value, inplace=True)', try using 'df.method({col: value}, inplace=True)' or df[col] = df[col].method(value) instead, to perform the operation inplace on the original object.\n",
      "\n",
      "\n",
      "  qualitative_data[col].fillna(qualitative_data[col].mode()[0], inplace=True)\n",
      "C:\\Users\\Evidya\\AppData\\Local\\Temp\\ipykernel_20336\\3522592556.py:2: FutureWarning: Downcasting object dtype arrays on .fillna, .ffill, .bfill is deprecated and will change in a future version. Call result.infer_objects(copy=False) instead. To opt-in to the future behavior, set `pd.set_option('future.no_silent_downcasting', True)`\n",
      "  qualitative_data[col].fillna(qualitative_data[col].mode()[0], inplace=True)\n"
     ]
    }
   ],
   "source": [
    "for col in colonnes_binaires:\n",
    "    qualitative_data[col].fillna(qualitative_data[col].mode()[0], inplace=True)"
   ]
  },
  {
   "cell_type": "code",
   "execution_count": 28,
   "metadata": {},
   "outputs": [
    {
     "data": {
      "text/plain": [
       "Adresse_brute                        0.000020\n",
       "Qualité_isolation_murs               0.000197\n",
       "Qualité_isolation_plancher_bas       0.032259\n",
       "Type_énergie_principale_chauffage    0.060987\n",
       "Zone_climatique_                     0.080673\n",
       "Classe_altitude                      0.080673\n",
       "Besoin_ECS                           0.134147\n",
       "Besoin_refroidissement               0.135371\n",
       "Classe_inertie_bâtiment              0.146066\n",
       "dtype: float64"
      ]
     },
     "execution_count": 28,
     "metadata": {},
     "output_type": "execute_result"
    }
   ],
   "source": [
    "missing_percentages(qualitative_data, 0)"
   ]
  },
  {
   "cell_type": "code",
   "execution_count": 29,
   "metadata": {},
   "outputs": [
    {
     "name": "stdout",
     "output_type": "stream",
     "text": [
      "Classe_inertie_bâtiment\n",
      "Légère         131703\n",
      "Moyenne        130072\n",
      "Lourde         100124\n",
      "Très lourde     28628\n",
      "Name: count, dtype: int64\n",
      "Classe_altitude\n",
      "inférieur à 400m    420007\n",
      "400-800m               340\n",
      "supérieur à 800m        86\n",
      "Name: count, dtype: int64\n",
      "Zone_climatique_\n",
      "H2a    416942\n",
      "H1a      1025\n",
      "H1b       785\n",
      "H3        705\n",
      "H1c       373\n",
      "H2c       293\n",
      "H2b       255\n",
      "H2d        55\n",
      "Name: count, dtype: int64\n",
      "Type_énergie_principale_chauffage\n",
      "Électricité                                                     202999\n",
      "Gaz naturel                                                     149455\n",
      "Fioul domestique                                                 30751\n",
      "Réseau de Chauffage urbain                                       24197\n",
      "Bois – Bûches                                                    12287\n",
      "Bois – Granulés (pellets) ou briquettes                           5277\n",
      "GPL                                                               3536\n",
      "Propane                                                            734\n",
      "Bois – Plaquettes forestières                                       78\n",
      "Bois – Plaquettes d’industrie                                       72\n",
      "Charbon                                                             27\n",
      "Butane                                                              13\n",
      "Électricité d'origine renouvelable utilisée dans le bâtiment        10\n",
      "Name: count, dtype: int64\n",
      "Qualité_isolation_plancher_bas\n",
      "très bonne      164465\n",
      "insuffisante    128982\n",
      "bonne            94365\n",
      "moyenne          54762\n",
      "Name: count, dtype: int64\n",
      "Qualité_isolation_murs\n",
      "insuffisante    198417\n",
      "bonne           103107\n",
      "très bonne       98611\n",
      "moyenne          57102\n",
      "Name: count, dtype: int64\n"
     ]
    }
   ],
   "source": [
    "autres_colonnes = [\"Classe_inertie_bâtiment\", \"Classe_altitude\", \"Zone_climatique_\", \"Type_énergie_principale_chauffage\", \"Qualité_isolation_plancher_bas\", \"Qualité_isolation_murs\"]\n",
    "\n",
    "for col in autres_colonnes:\n",
    "    print(qualitative_data[col].value_counts())"
   ]
  },
  {
   "cell_type": "code",
   "execution_count": 30,
   "metadata": {},
   "outputs": [
    {
     "name": "stderr",
     "output_type": "stream",
     "text": [
      "C:\\Users\\Evidya\\AppData\\Local\\Temp\\ipykernel_20336\\2308979366.py:4: FutureWarning: A value is trying to be set on a copy of a DataFrame or Series through chained assignment using an inplace method.\n",
      "The behavior will change in pandas 3.0. This inplace method will never work because the intermediate object on which we are setting values always behaves as a copy.\n",
      "\n",
      "For example, when doing 'df[col].method(value, inplace=True)', try using 'df.method({col: value}, inplace=True)' or df[col] = df[col].method(value) instead, to perform the operation inplace on the original object.\n",
      "\n",
      "\n",
      "  qualitative_data[col].fillna(qualitative_data[col].mode()[0], inplace=True)\n"
     ]
    }
   ],
   "source": [
    "# imputation par la fréquentes aussi pour ces colonnes\n",
    "\n",
    "for col in autres_colonnes:\n",
    "    qualitative_data[col].fillna(qualitative_data[col].mode()[0], inplace=True)"
   ]
  },
  {
   "cell_type": "code",
   "execution_count": 31,
   "metadata": {},
   "outputs": [
    {
     "name": "stdout",
     "output_type": "stream",
     "text": [
      "Besoin_ECS                float64\n",
      "Besoin_refroidissement    float64\n",
      "dtype: object\n"
     ]
    }
   ],
   "source": [
    "import pandas as pd\n",
    "\n",
    "# Fonction de nettoyage et conversion\n",
    "def clean_and_convert(value):\n",
    "    if pd.isna(value):  # Conserve les NaN\n",
    "        return value\n",
    "    else:\n",
    "        value = str(value).replace(',', '.')  # Remplace les virgules par des points\n",
    "        return pd.to_numeric(value, errors='coerce')  # Convertit en numérique ou NaN en cas d'erreur\n",
    "\n",
    "# Appliquer la fonction de nettoyage et de conversion aux colonnes cibles\n",
    "qualitative_data[\"Besoin_ECS\"] = qualitative_data[\"Besoin_ECS\"].apply(clean_and_convert)\n",
    "qualitative_data[\"Besoin_refroidissement\"] = qualitative_data[\"Besoin_refroidissement\"].apply(clean_and_convert)\n",
    "\n",
    "# Forcer la conversion en numérique pour s'assurer du type\n",
    "qualitative_data[\"Besoin_ECS\"] = pd.to_numeric(qualitative_data[\"Besoin_ECS\"], errors='coerce')\n",
    "qualitative_data[\"Besoin_refroidissement\"] = pd.to_numeric(qualitative_data[\"Besoin_refroidissement\"], errors='coerce')\n",
    "\n",
    "# Vérifier si les colonnes sont bien de type float ou int\n",
    "print(qualitative_data[[\"Besoin_ECS\", \"Besoin_refroidissement\"]].dtypes)\n"
   ]
  },
  {
   "cell_type": "code",
   "execution_count": 32,
   "metadata": {},
   "outputs": [
    {
     "data": {
      "text/html": [
       "<div>\n",
       "<style scoped>\n",
       "    .dataframe tbody tr th:only-of-type {\n",
       "        vertical-align: middle;\n",
       "    }\n",
       "\n",
       "    .dataframe tbody tr th {\n",
       "        vertical-align: top;\n",
       "    }\n",
       "\n",
       "    .dataframe thead th {\n",
       "        text-align: right;\n",
       "    }\n",
       "</style>\n",
       "<table border=\"1\" class=\"dataframe\">\n",
       "  <thead>\n",
       "    <tr style=\"text-align: right;\">\n",
       "      <th></th>\n",
       "      <th>Besoin_ECS</th>\n",
       "      <th>Besoin_refroidissement</th>\n",
       "    </tr>\n",
       "  </thead>\n",
       "  <tbody>\n",
       "    <tr>\n",
       "      <th>count</th>\n",
       "      <td>395978.000000</td>\n",
       "      <td>395418.000000</td>\n",
       "    </tr>\n",
       "    <tr>\n",
       "      <th>mean</th>\n",
       "      <td>7571.331327</td>\n",
       "      <td>13.947177</td>\n",
       "    </tr>\n",
       "    <tr>\n",
       "      <th>std</th>\n",
       "      <td>20631.409761</td>\n",
       "      <td>242.450716</td>\n",
       "    </tr>\n",
       "    <tr>\n",
       "      <th>min</th>\n",
       "      <td>0.000000</td>\n",
       "      <td>0.000000</td>\n",
       "    </tr>\n",
       "    <tr>\n",
       "      <th>25%</th>\n",
       "      <td>1078.200000</td>\n",
       "      <td>0.000000</td>\n",
       "    </tr>\n",
       "    <tr>\n",
       "      <th>50%</th>\n",
       "      <td>1215.300000</td>\n",
       "      <td>0.000000</td>\n",
       "    </tr>\n",
       "    <tr>\n",
       "      <th>75%</th>\n",
       "      <td>1429.700000</td>\n",
       "      <td>0.000000</td>\n",
       "    </tr>\n",
       "    <tr>\n",
       "      <th>max</th>\n",
       "      <td>251925.200000</td>\n",
       "      <td>29792.500000</td>\n",
       "    </tr>\n",
       "  </tbody>\n",
       "</table>\n",
       "</div>"
      ],
      "text/plain": [
       "          Besoin_ECS  Besoin_refroidissement\n",
       "count  395978.000000           395418.000000\n",
       "mean     7571.331327               13.947177\n",
       "std     20631.409761              242.450716\n",
       "min         0.000000                0.000000\n",
       "25%      1078.200000                0.000000\n",
       "50%      1215.300000                0.000000\n",
       "75%      1429.700000                0.000000\n",
       "max    251925.200000            29792.500000"
      ]
     },
     "execution_count": 32,
     "metadata": {},
     "output_type": "execute_result"
    }
   ],
   "source": [
    "qualitative_data[[\"Besoin_ECS\", \"Besoin_refroidissement\"]].describe()"
   ]
  },
  {
   "cell_type": "code",
   "execution_count": 33,
   "metadata": {},
   "outputs": [],
   "source": [
    "\n",
    "median_values = qualitative_data[[\"Besoin_ECS\", \"Besoin_refroidissement\"]].median()\n",
    "qualitative_data[[\"Besoin_ECS\", \"Besoin_refroidissement\"]] = qualitative_data[[\"Besoin_ECS\", \"Besoin_refroidissement\"]].fillna(median_values)\n"
   ]
  },
  {
   "cell_type": "code",
   "execution_count": 34,
   "metadata": {},
   "outputs": [],
   "source": [
    "# Copier les colonnes de qualitative_data vers quantitative_data\n",
    "quantitative_data[[\"Besoin_ECS\", \"Besoin_refroidissement\"]] = qualitative_data[[\"Besoin_ECS\", \"Besoin_refroidissement\"]]\n",
    "\n",
    "# Supprimer les colonnes de qualitative_data\n",
    "qualitative_data.drop(columns=[\"Besoin_ECS\", \"Besoin_refroidissement\"], inplace=True)"
   ]
  },
  {
   "cell_type": "code",
   "execution_count": 35,
   "metadata": {},
   "outputs": [
    {
     "data": {
      "text/plain": [
       "np.int64(9)"
      ]
     },
     "execution_count": 35,
     "metadata": {},
     "output_type": "execute_result"
    }
   ],
   "source": [
    "qualitative_data.Adresse_brute.isnull().sum()"
   ]
  },
  {
   "cell_type": "code",
   "execution_count": 36,
   "metadata": {},
   "outputs": [],
   "source": [
    "df_processed = pd.concat([quantitative_data, qualitative_data], axis=1)"
   ]
  },
  {
   "cell_type": "code",
   "execution_count": 37,
   "metadata": {},
   "outputs": [
    {
     "data": {
      "text/plain": [
       "(457327, 101)"
      ]
     },
     "execution_count": 37,
     "metadata": {},
     "output_type": "execute_result"
    }
   ],
   "source": [
    "df_processed.shape"
   ]
  },
  {
   "cell_type": "code",
   "execution_count": 38,
   "metadata": {},
   "outputs": [
    {
     "data": {
      "text/plain": [
       "Adresse_brute    0.00002\n",
       "dtype: float64"
      ]
     },
     "execution_count": 38,
     "metadata": {},
     "output_type": "execute_result"
    }
   ],
   "source": [
    "missing_percentages(df_processed)"
   ]
  },
  {
   "cell_type": "code",
   "execution_count": 39,
   "metadata": {},
   "outputs": [
    {
     "data": {
      "text/plain": [
       "np.int64(9)"
      ]
     },
     "execution_count": 39,
     "metadata": {},
     "output_type": "execute_result"
    }
   ],
   "source": [
    "missing_rows_count = df_processed.isnull().any(axis=1).sum()\n",
    "missing_rows_count # on a très peu de lignes NA (9) donc on peut les supprimer"
   ]
  },
  {
   "cell_type": "code",
   "execution_count": 40,
   "metadata": {},
   "outputs": [],
   "source": [
    "df_processed.dropna(inplace=True)"
   ]
  },
  {
   "cell_type": "code",
   "execution_count": null,
   "metadata": {},
   "outputs": [],
   "source": [
    "# save to csv ?\n",
    "df_processed.to_csv(\"../data/processed/cleaned.csv\", sep=\",\")"
   ]
  },
  {
   "cell_type": "markdown",
   "metadata": {},
   "source": [
    "### Selection de variables avec random forest et ACP"
   ]
  },
  {
   "cell_type": "code",
   "execution_count": 41,
   "metadata": {},
   "outputs": [],
   "source": [
    "quantitative_data = df_processed.select_dtypes(include=\"number\")\n",
    "qualitative_data = df_processed.select_dtypes(include=\"object\")"
   ]
  },
  {
   "cell_type": "code",
   "execution_count": 42,
   "metadata": {},
   "outputs": [],
   "source": [
    "X_quanti = quantitative_data\n",
    "y = df_processed.loc[: , \"Etiquette_DPE\"]"
   ]
  },
  {
   "cell_type": "code",
   "execution_count": 43,
   "metadata": {},
   "outputs": [
    {
     "data": {
      "text/plain": [
       "Conso_chauffage_dépensier_é_finale    float64\n",
       "Emission_GES_ECS                      float64\n",
       "Emission_GES_chauffage                float64\n",
       "Coût_ECS_énergie_n°1                  float64\n",
       "Conso_ECS_é_finale                    float64\n",
       "                                       ...   \n",
       "Besoin_chauffage                      float64\n",
       "Deperditions_enveloppe                float64\n",
       "Année_construction                    float64\n",
       "Besoin_ECS                            float64\n",
       "Besoin_refroidissement                float64\n",
       "Length: 68, dtype: object"
      ]
     },
     "execution_count": 43,
     "metadata": {},
     "output_type": "execute_result"
    }
   ],
   "source": [
    "X_quanti.dtypes"
   ]
  },
  {
   "cell_type": "code",
   "execution_count": 44,
   "metadata": {},
   "outputs": [
    {
     "data": {
      "text/plain": [
       "count     457318\n",
       "unique         7\n",
       "top            C\n",
       "freq      137666\n",
       "Name: Etiquette_DPE, dtype: object"
      ]
     },
     "execution_count": 44,
     "metadata": {},
     "output_type": "execute_result"
    }
   ],
   "source": [
    "y.describe()"
   ]
  },
  {
   "cell_type": "code",
   "execution_count": 45,
   "metadata": {},
   "outputs": [
    {
     "data": {
      "image/png": "[encoded data removed]",
      "text/plain": [
       "<Figure size 1000x600 with 1 Axes>"
      ]
     },
     "metadata": {},
     "output_type": "display_data"
    }
   ],
   "source": [
    "from sklearn.decomposition import PCA\n",
    "from sklearn.preprocessing import StandardScaler\n",
    "\n",
    "\n",
    "X_scaled = StandardScaler().fit_transform(X_quanti)  # Normalisation des données\n",
    "\n",
    "pca = PCA(n_components=10)\n",
    "X_pca = pca.fit_transform(X_scaled)\n",
    "\n",
    "# Visualiser la variance expliquée par chaque composante\n",
    "plt.figure(figsize=(10, 6))\n",
    "plt.plot(range(1, len(pca.explained_variance_ratio_) + 1), pca.explained_variance_ratio_, marker='o')\n",
    "plt.title(\"Variance expliquée par chaque composante principale\")\n",
    "plt.xlabel(\"Composante principale\")\n",
    "plt.ylabel(\"Variance expliquée\")\n",
    "plt.show()"
   ]
  },
  {
   "cell_type": "code",
   "execution_count": 46,
   "metadata": {},
   "outputs": [
    {
     "name": "stdout",
     "output_type": "stream",
     "text": [
      "Composantes principales les plus associées à la cible :\n",
      "     PC  p_value\n",
      "0   PC1      0.0\n",
      "1   PC2      0.0\n",
      "2   PC3      0.0\n",
      "3   PC4      0.0\n",
      "4   PC5      0.0\n",
      "5   PC6      0.0\n",
      "6   PC7      0.0\n",
      "7   PC8      0.0\n",
      "8   PC9      0.0\n",
      "9  PC10      0.0\n"
     ]
    }
   ],
   "source": [
    "from sklearn.feature_selection import f_classif\n",
    "\n",
    "# Calcul des p-valeurs pour chaque composante par rapport à la cible\n",
    "p_values = f_classif(X_pca, y)[1]\n",
    "\n",
    "# Créer un DataFrame pour les p-valeurs\n",
    "pca_importance = pd.DataFrame({'PC': [f'PC{i+1}' for i in range(len(p_values))], 'p_value': p_values})\n",
    "pca_importance.sort_values(by='p_value', inplace=True)\n",
    "\n",
    "# Afficher les composantes principales les plus corrélées avec la cible\n",
    "print(\"Composantes principales les plus associées à la cible :\")\n",
    "print(pca_importance.head(10))"
   ]
  },
  {
   "cell_type": "code",
   "execution_count": 47,
   "metadata": {},
   "outputs": [
    {
     "name": "stdout",
     "output_type": "stream",
     "text": [
      "Charges des variables pour chaque composante principale :\n",
      "                                         PC1       PC2       PC3       PC4  \\\n",
      "Conso_chauffage_dépensier_é_finale  0.187865 -0.025525 -0.026047  0.154853   \n",
      "Emission_GES_ECS                    0.166743 -0.008734 -0.010474 -0.131005   \n",
      "Emission_GES_chauffage              0.172101 -0.026735 -0.018053  0.136260   \n",
      "Coût_ECS_énergie_n°1                0.158453  0.001838 -0.027820 -0.200003   \n",
      "Conso_ECS_é_finale                  0.183705 -0.006955 -0.016668 -0.165130   \n",
      "...                                      ...       ...       ...       ...   \n",
      "Besoin_chauffage                    0.051043 -0.063771  0.339419  0.024150   \n",
      "Deperditions_enveloppe              0.046265 -0.064149  0.353045 -0.004586   \n",
      "Année_construction                 -0.023803  0.018716 -0.025579 -0.174376   \n",
      "Besoin_ECS                          0.029779 -0.056135  0.325555 -0.057098   \n",
      "Besoin_refroidissement              0.002843  0.127528  0.020979  0.025489   \n",
      "\n",
      "                                         PC5       PC6       PC7       PC8  \\\n",
      "Conso_chauffage_dépensier_é_finale -0.041754  0.046795  0.068900 -0.030707   \n",
      "Emission_GES_ECS                    0.058177 -0.027929 -0.085339 -0.154797   \n",
      "Emission_GES_chauffage             -0.133685  0.085180  0.085510 -0.244190   \n",
      "Coût_ECS_énergie_n°1                0.063138 -0.068962 -0.195740  0.088058   \n",
      "Conso_ECS_é_finale                  0.093071 -0.057342 -0.128153 -0.026962   \n",
      "...                                      ...       ...       ...       ...   \n",
      "Besoin_chauffage                    0.008022  0.022134  0.017102  0.011852   \n",
      "Deperditions_enveloppe              0.013434  0.020867  0.015394  0.017791   \n",
      "Année_construction                 -0.027038  0.080132  0.261738 -0.170857   \n",
      "Besoin_ECS                          0.026500  0.012356  0.003101  0.020774   \n",
      "Besoin_refroidissement             -0.019176 -0.000704 -0.037396  0.129145   \n",
      "\n",
      "                                         PC9      PC10  \n",
      "Conso_chauffage_dépensier_é_finale -0.085748  0.069902  \n",
      "Emission_GES_ECS                    0.245392 -0.020901  \n",
      "Emission_GES_chauffage              0.140919  0.024631  \n",
      "Coût_ECS_énergie_n°1               -0.070882 -0.017812  \n",
      "Conso_ECS_é_finale                  0.079645 -0.001148  \n",
      "...                                      ...       ...  \n",
      "Besoin_chauffage                   -0.011203 -0.003909  \n",
      "Deperditions_enveloppe             -0.000341 -0.003360  \n",
      "Année_construction                 -0.040840  0.112176  \n",
      "Besoin_ECS                          0.015897 -0.000717  \n",
      "Besoin_refroidissement              0.128409  0.663941  \n",
      "\n",
      "[68 rows x 10 columns]\n"
     ]
    },
    {
     "data": {
      "image/png": "[encoded data removed]",
      "text/plain": [
       "<Figure size 1200x800 with 2 Axes>"
      ]
     },
     "metadata": {},
     "output_type": "display_data"
    }
   ],
   "source": [
    "loadings = pd.DataFrame(pca.components_.T, columns=[f\"PC{i+1}\" for i in range(len(pca.components_))], index=X_quanti.columns)\n",
    "\n",
    "# Afficher les charges (coefficients) de chaque variable par rapport aux composantes\n",
    "print(\"Charges des variables pour chaque composante principale :\")\n",
    "print(loadings)\n",
    "\n",
    "# 5. Identifier les variables corrélées : Visualiser les charges avec une carte de chaleur\n",
    "plt.figure(figsize=(12, 8))\n",
    "sns.heatmap(loadings, cmap=\"coolwarm\")\n",
    "plt.title(\"Carte de chaleur des charges (correlations) des variables dans les composantes principales\")\n",
    "plt.show()"
   ]
  },
  {
   "cell_type": "code",
   "execution_count": 48,
   "metadata": {},
   "outputs": [
    {
     "name": "stdout",
     "output_type": "stream",
     "text": [
      "Variables les plus importantes :\n",
      "Emission_GES_5_usages_énergie_n°2         1.432447\n",
      "Conso_5_usages_par_m²_é_primaire          1.362680\n",
      "Coût_chauffage_énergie_n°2                1.294300\n",
      "Emission_GES_5_usages_par_m²              1.199350\n",
      "Conso_auxiliaires_é_primaire              1.175476\n",
      "                                            ...   \n",
      "Emission_GES_refroidissement_dépensier    0.513591\n",
      "Deperditions_planchers_bas                0.513205\n",
      "Conso_5_usages_é_finale_énergie_n°1       0.512214\n",
      "Déperditions_ponts_thermiques             0.511284\n",
      "Coordonnée_cartographique_X_(BAN)         0.503347\n",
      "Length: 60, dtype: float64\n"
     ]
    }
   ],
   "source": [
    "# Calculer la contribution globale de chaque variable en sommant les charges absolues\n",
    "importance_scores = loadings.abs().sum(axis=1)\n",
    "\n",
    "# Trier les variables par leur importance et sélectionner les plus importantes\n",
    "variables_importantes = importance_scores.sort_values(ascending=False)\n",
    "print(\"Variables les plus importantes :\")\n",
    "print(variables_importantes[variables_importantes > 0.5] )"
   ]
  },
  {
   "cell_type": "code",
   "execution_count": 49,
   "metadata": {},
   "outputs": [
    {
     "name": "stderr",
     "output_type": "stream",
     "text": [
      "[Parallel(n_jobs=1)]: Done  49 tasks      | elapsed:  2.8min\n"
     ]
    },
    {
     "data": {
      "text/html": [
       "<style>#sk-container-id-1 {\n",
       "  /* Definition of color scheme common for light and dark mode */\n",
       "  --sklearn-color-text: black;\n",
       "  --sklearn-color-line: gray;\n",
       "  /* Definition of color scheme for unfitted estimators */\n",
       "  --sklearn-color-unfitted-level-0: #fff5e6;\n",
       "  --sklearn-color-unfitted-level-1: #f6e4d2;\n",
       "  --sklearn-color-unfitted-level-2: #ffe0b3;\n",
       "  --sklearn-color-unfitted-level-3: chocolate;\n",
       "  /* Definition of color scheme for fitted estimators */\n",
       "  --sklearn-color-fitted-level-0: #f0f8ff;\n",
       "  --sklearn-color-fitted-level-1: #d4ebff;\n",
       "  --sklearn-color-fitted-level-2: #b3dbfd;\n",
       "  --sklearn-color-fitted-level-3: cornflowerblue;\n",
       "\n",
       "  /* Specific color for light theme */\n",
       "  --sklearn-color-text-on-default-background: var(--sg-text-color, var(--theme-code-foreground, var(--jp-content-font-color1, black)));\n",
       "  --sklearn-color-background: var(--sg-background-color, var(--theme-background, var(--jp-layout-color0, white)));\n",
       "  --sklearn-color-border-box: var(--sg-text-color, var(--theme-code-foreground, var(--jp-content-font-color1, black)));\n",
       "  --sklearn-color-icon: #696969;\n",
       "\n",
       "  @media (prefers-color-scheme: dark) {\n",
       "    /* Redefinition of color scheme for dark theme */\n",
       "    --sklearn-color-text-on-default-background: var(--sg-text-color, var(--theme-code-foreground, var(--jp-content-font-color1, white)));\n",
       "    --sklearn-color-background: var(--sg-background-color, var(--theme-background, var(--jp-layout-color0, #111)));\n",
       "    --sklearn-color-border-box: var(--sg-text-color, var(--theme-code-foreground, var(--jp-content-font-color1, white)));\n",
       "    --sklearn-color-icon: #878787;\n",
       "  }\n",
       "}\n",
       "\n",
       "#sk-container-id-1 {\n",
       "  color: var(--sklearn-color-text);\n",
       "}\n",
       "\n",
       "#sk-container-id-1 pre {\n",
       "  padding: 0;\n",
       "}\n",
       "\n",
       "#sk-container-id-1 input.sk-hidden--visually {\n",
       "  border: 0;\n",
       "  clip: rect(1px 1px 1px 1px);\n",
       "  clip: rect(1px, 1px, 1px, 1px);\n",
       "  height: 1px;\n",
       "  margin: -1px;\n",
       "  overflow: hidden;\n",
       "  padding: 0;\n",
       "  position: absolute;\n",
       "  width: 1px;\n",
       "}\n",
       "\n",
       "#sk-container-id-1 div.sk-dashed-wrapped {\n",
       "  border: 1px dashed var(--sklearn-color-line);\n",
       "  margin: 0 0.4em 0.5em 0.4em;\n",
       "  box-sizing: border-box;\n",
       "  padding-bottom: 0.4em;\n",
       "  background-color: var(--sklearn-color-background);\n",
       "}\n",
       "\n",
       "#sk-container-id-1 div.sk-container {\n",
       "  /* jupyter's `normalize.less` sets `[hidden] { display: none; }`\n",
       "     but bootstrap.min.css set `[hidden] { display: none !important; }`\n",
       "     so we also need the `!important` here to be able to override the\n",
       "     default hidden behavior on the sphinx rendered scikit-learn.org.\n",
       "     See: https://github.com/scikit-learn/scikit-learn/issues/21755 */\n",
       "  display: inline-block !important;\n",
       "  position: relative;\n",
       "}\n",
       "\n",
       "#sk-container-id-1 div.sk-text-repr-fallback {\n",
       "  display: none;\n",
       "}\n",
       "\n",
       "div.sk-parallel-item,\n",
       "div.sk-serial,\n",
       "div.sk-item {\n",
       "  /* draw centered vertical line to link estimators */\n",
       "  background-image: linear-gradient(var(--sklearn-color-text-on-default-background), var(--sklearn-color-text-on-default-background));\n",
       "  background-size: 2px 100%;\n",
       "  background-repeat: no-repeat;\n",
       "  background-position: center center;\n",
       "}\n",
       "\n",
       "/* Parallel-specific style estimator block */\n",
       "\n",
       "#sk-container-id-1 div.sk-parallel-item::after {\n",
       "  content: \"\";\n",
       "  width: 100%;\n",
       "  border-bottom: 2px solid var(--sklearn-color-text-on-default-background);\n",
       "  flex-grow: 1;\n",
       "}\n",
       "\n",
       "#sk-container-id-1 div.sk-parallel {\n",
       "  display: flex;\n",
       "  align-items: stretch;\n",
       "  justify-content: center;\n",
       "  background-color: var(--sklearn-color-background);\n",
       "  position: relative;\n",
       "}\n",
       "\n",
       "#sk-container-id-1 div.sk-parallel-item {\n",
       "  display: flex;\n",
       "  flex-direction: column;\n",
       "}\n",
       "\n",
       "#sk-container-id-1 div.sk-parallel-item:first-child::after {\n",
       "  align-self: flex-end;\n",
       "  width: 50%;\n",
       "}\n",
       "\n",
       "#sk-container-id-1 div.sk-parallel-item:last-child::after {\n",
       "  align-self: flex-start;\n",
       "  width: 50%;\n",
       "}\n",
       "\n",
       "#sk-container-id-1 div.sk-parallel-item:only-child::after {\n",
       "  width: 0;\n",
       "}\n",
       "\n",
       "/* Serial-specific style estimator block */\n",
       "\n",
       "#sk-container-id-1 div.sk-serial {\n",
       "  display: flex;\n",
       "  flex-direction: column;\n",
       "  align-items: center;\n",
       "  background-color: var(--sklearn-color-background);\n",
       "  padding-right: 1em;\n",
       "  padding-left: 1em;\n",
       "}\n",
       "\n",
       "\n",
       "/* Toggleable style: style used for estimator/Pipeline/ColumnTransformer box that is\n",
       "clickable and can be expanded/collapsed.\n",
       "- Pipeline and ColumnTransformer use this feature and define the default style\n",
       "- Estimators will overwrite some part of the style using the `sk-estimator` class\n",
       "*/\n",
       "\n",
       "/* Pipeline and ColumnTransformer style (default) */\n",
       "\n",
       "#sk-container-id-1 div.sk-toggleable {\n",
       "  /* Default theme specific background. It is overwritten whether we have a\n",
       "  specific estimator or a Pipeline/ColumnTransformer */\n",
       "  background-color: var(--sklearn-color-background);\n",
       "}\n",
       "\n",
       "/* Toggleable label */\n",
       "#sk-container-id-1 label.sk-toggleable__label {\n",
       "  cursor: pointer;\n",
       "  display: block;\n",
       "  width: 100%;\n",
       "  margin-bottom: 0;\n",
       "  padding: 0.5em;\n",
       "  box-sizing: border-box;\n",
       "  text-align: center;\n",
       "}\n",
       "\n",
       "#sk-container-id-1 label.sk-toggleable__label-arrow:before {\n",
       "  /* Arrow on the left of the label */\n",
       "  content: \"▸\";\n",
       "  float: left;\n",
       "  margin-right: 0.25em;\n",
       "  color: var(--sklearn-color-icon);\n",
       "}\n",
       "\n",
       "#sk-container-id-1 label.sk-toggleable__label-arrow:hover:before {\n",
       "  color: var(--sklearn-color-text);\n",
       "}\n",
       "\n",
       "/* Toggleable content - dropdown */\n",
       "\n",
       "#sk-container-id-1 div.sk-toggleable__content {\n",
       "  max-height: 0;\n",
       "  max-width: 0;\n",
       "  overflow: hidden;\n",
       "  text-align: left;\n",
       "  /* unfitted */\n",
       "  background-color: var(--sklearn-color-unfitted-level-0);\n",
       "}\n",
       "\n",
       "#sk-container-id-1 div.sk-toggleable__content.fitted {\n",
       "  /* fitted */\n",
       "  background-color: var(--sklearn-color-fitted-level-0);\n",
       "}\n",
       "\n",
       "#sk-container-id-1 div.sk-toggleable__content pre {\n",
       "  margin: 0.2em;\n",
       "  border-radius: 0.25em;\n",
       "  color: var(--sklearn-color-text);\n",
       "  /* unfitted */\n",
       "  background-color: var(--sklearn-color-unfitted-level-0);\n",
       "}\n",
       "\n",
       "#sk-container-id-1 div.sk-toggleable__content.fitted pre {\n",
       "  /* unfitted */\n",
       "  background-color: var(--sklearn-color-fitted-level-0);\n",
       "}\n",
       "\n",
       "#sk-container-id-1 input.sk-toggleable__control:checked~div.sk-toggleable__content {\n",
       "  /* Expand drop-down */\n",
       "  max-height: 200px;\n",
       "  max-width: 100%;\n",
       "  overflow: auto;\n",
       "}\n",
       "\n",
       "#sk-container-id-1 input.sk-toggleable__control:checked~label.sk-toggleable__label-arrow:before {\n",
       "  content: \"▾\";\n",
       "}\n",
       "\n",
       "/* Pipeline/ColumnTransformer-specific style */\n",
       "\n",
       "#sk-container-id-1 div.sk-label input.sk-toggleable__control:checked~label.sk-toggleable__label {\n",
       "  color: var(--sklearn-color-text);\n",
       "  background-color: var(--sklearn-color-unfitted-level-2);\n",
       "}\n",
       "\n",
       "#sk-container-id-1 div.sk-label.fitted input.sk-toggleable__control:checked~label.sk-toggleable__label {\n",
       "  background-color: var(--sklearn-color-fitted-level-2);\n",
       "}\n",
       "\n",
       "/* Estimator-specific style */\n",
       "\n",
       "/* Colorize estimator box */\n",
       "#sk-container-id-1 div.sk-estimator input.sk-toggleable__control:checked~label.sk-toggleable__label {\n",
       "  /* unfitted */\n",
       "  background-color: var(--sklearn-color-unfitted-level-2);\n",
       "}\n",
       "\n",
       "#sk-container-id-1 div.sk-estimator.fitted input.sk-toggleable__control:checked~label.sk-toggleable__label {\n",
       "  /* fitted */\n",
       "  background-color: var(--sklearn-color-fitted-level-2);\n",
       "}\n",
       "\n",
       "#sk-container-id-1 div.sk-label label.sk-toggleable__label,\n",
       "#sk-container-id-1 div.sk-label label {\n",
       "  /* The background is the default theme color */\n",
       "  color: var(--sklearn-color-text-on-default-background);\n",
       "}\n",
       "\n",
       "/* On hover, darken the color of the background */\n",
       "#sk-container-id-1 div.sk-label:hover label.sk-toggleable__label {\n",
       "  color: var(--sklearn-color-text);\n",
       "  background-color: var(--sklearn-color-unfitted-level-2);\n",
       "}\n",
       "\n",
       "/* Label box, darken color on hover, fitted */\n",
       "#sk-container-id-1 div.sk-label.fitted:hover label.sk-toggleable__label.fitted {\n",
       "  color: var(--sklearn-color-text);\n",
       "  background-color: var(--sklearn-color-fitted-level-2);\n",
       "}\n",
       "\n",
       "/* Estimator label */\n",
       "\n",
       "#sk-container-id-1 div.sk-label label {\n",
       "  font-family: monospace;\n",
       "  font-weight: bold;\n",
       "  display: inline-block;\n",
       "  line-height: 1.2em;\n",
       "}\n",
       "\n",
       "#sk-container-id-1 div.sk-label-container {\n",
       "  text-align: center;\n",
       "}\n",
       "\n",
       "/* Estimator-specific */\n",
       "#sk-container-id-1 div.sk-estimator {\n",
       "  font-family: monospace;\n",
       "  border: 1px dotted var(--sklearn-color-border-box);\n",
       "  border-radius: 0.25em;\n",
       "  box-sizing: border-box;\n",
       "  margin-bottom: 0.5em;\n",
       "  /* unfitted */\n",
       "  background-color: var(--sklearn-color-unfitted-level-0);\n",
       "}\n",
       "\n",
       "#sk-container-id-1 div.sk-estimator.fitted {\n",
       "  /* fitted */\n",
       "  background-color: var(--sklearn-color-fitted-level-0);\n",
       "}\n",
       "\n",
       "/* on hover */\n",
       "#sk-container-id-1 div.sk-estimator:hover {\n",
       "  /* unfitted */\n",
       "  background-color: var(--sklearn-color-unfitted-level-2);\n",
       "}\n",
       "\n",
       "#sk-container-id-1 div.sk-estimator.fitted:hover {\n",
       "  /* fitted */\n",
       "  background-color: var(--sklearn-color-fitted-level-2);\n",
       "}\n",
       "\n",
       "/* Specification for estimator info (e.g. \"i\" and \"?\") */\n",
       "\n",
       "/* Common style for \"i\" and \"?\" */\n",
       "\n",
       ".sk-estimator-doc-link,\n",
       "a:link.sk-estimator-doc-link,\n",
       "a:visited.sk-estimator-doc-link {\n",
       "  float: right;\n",
       "  font-size: smaller;\n",
       "  line-height: 1em;\n",
       "  font-family: monospace;\n",
       "  background-color: var(--sklearn-color-background);\n",
       "  border-radius: 1em;\n",
       "  height: 1em;\n",
       "  width: 1em;\n",
       "  text-decoration: none !important;\n",
       "  margin-left: 1ex;\n",
       "  /* unfitted */\n",
       "  border: var(--sklearn-color-unfitted-level-1) 1pt solid;\n",
       "  color: var(--sklearn-color-unfitted-level-1);\n",
       "}\n",
       "\n",
       ".sk-estimator-doc-link.fitted,\n",
       "a:link.sk-estimator-doc-link.fitted,\n",
       "a:visited.sk-estimator-doc-link.fitted {\n",
       "  /* fitted */\n",
       "  border: var(--sklearn-color-fitted-level-1) 1pt solid;\n",
       "  color: var(--sklearn-color-fitted-level-1);\n",
       "}\n",
       "\n",
       "/* On hover */\n",
       "div.sk-estimator:hover .sk-estimator-doc-link:hover,\n",
       ".sk-estimator-doc-link:hover,\n",
       "div.sk-label-container:hover .sk-estimator-doc-link:hover,\n",
       ".sk-estimator-doc-link:hover {\n",
       "  /* unfitted */\n",
       "  background-color: var(--sklearn-color-unfitted-level-3);\n",
       "  color: var(--sklearn-color-background);\n",
       "  text-decoration: none;\n",
       "}\n",
       "\n",
       "div.sk-estimator.fitted:hover .sk-estimator-doc-link.fitted:hover,\n",
       ".sk-estimator-doc-link.fitted:hover,\n",
       "div.sk-label-container:hover .sk-estimator-doc-link.fitted:hover,\n",
       ".sk-estimator-doc-link.fitted:hover {\n",
       "  /* fitted */\n",
       "  background-color: var(--sklearn-color-fitted-level-3);\n",
       "  color: var(--sklearn-color-background);\n",
       "  text-decoration: none;\n",
       "}\n",
       "\n",
       "/* Span, style for the box shown on hovering the info icon */\n",
       ".sk-estimator-doc-link span {\n",
       "  display: none;\n",
       "  z-index: 9999;\n",
       "  position: relative;\n",
       "  font-weight: normal;\n",
       "  right: .2ex;\n",
       "  padding: .5ex;\n",
       "  margin: .5ex;\n",
       "  width: min-content;\n",
       "  min-width: 20ex;\n",
       "  max-width: 50ex;\n",
       "  color: var(--sklearn-color-text);\n",
       "  box-shadow: 2pt 2pt 4pt #999;\n",
       "  /* unfitted */\n",
       "  background: var(--sklearn-color-unfitted-level-0);\n",
       "  border: .5pt solid var(--sklearn-color-unfitted-level-3);\n",
       "}\n",
       "\n",
       ".sk-estimator-doc-link.fitted span {\n",
       "  /* fitted */\n",
       "  background: var(--sklearn-color-fitted-level-0);\n",
       "  border: var(--sklearn-color-fitted-level-3);\n",
       "}\n",
       "\n",
       ".sk-estimator-doc-link:hover span {\n",
       "  display: block;\n",
       "}\n",
       "\n",
       "/* \"?\"-specific style due to the `<a>` HTML tag */\n",
       "\n",
       "#sk-container-id-1 a.estimator_doc_link {\n",
       "  float: right;\n",
       "  font-size: 1rem;\n",
       "  line-height: 1em;\n",
       "  font-family: monospace;\n",
       "  background-color: var(--sklearn-color-background);\n",
       "  border-radius: 1rem;\n",
       "  height: 1rem;\n",
       "  width: 1rem;\n",
       "  text-decoration: none;\n",
       "  /* unfitted */\n",
       "  color: var(--sklearn-color-unfitted-level-1);\n",
       "  border: var(--sklearn-color-unfitted-level-1) 1pt solid;\n",
       "}\n",
       "\n",
       "#sk-container-id-1 a.estimator_doc_link.fitted {\n",
       "  /* fitted */\n",
       "  border: var(--sklearn-color-fitted-level-1) 1pt solid;\n",
       "  color: var(--sklearn-color-fitted-level-1);\n",
       "}\n",
       "\n",
       "/* On hover */\n",
       "#sk-container-id-1 a.estimator_doc_link:hover {\n",
       "  /* unfitted */\n",
       "  background-color: var(--sklearn-color-unfitted-level-3);\n",
       "  color: var(--sklearn-color-background);\n",
       "  text-decoration: none;\n",
       "}\n",
       "\n",
       "#sk-container-id-1 a.estimator_doc_link.fitted:hover {\n",
       "  /* fitted */\n",
       "  background-color: var(--sklearn-color-fitted-level-3);\n",
       "}\n",
       "</style><div id=\"sk-container-id-1\" class=\"sk-top-container\"><div class=\"sk-text-repr-fallback\"><pre>RandomForestClassifier(min_samples_split=5, random_state=0, verbose=1)</pre><b>In a Jupyter environment, please rerun this cell to show the HTML representation or trust the notebook. <br />On GitHub, the HTML representation is unable to render, please try loading this page with nbviewer.org.</b></div><div class=\"sk-container\" hidden><div class=\"sk-item\"><div class=\"sk-estimator fitted sk-toggleable\"><input class=\"sk-toggleable__control sk-hidden--visually\" id=\"sk-estimator-id-1\" type=\"checkbox\" checked><label for=\"sk-estimator-id-1\" class=\"sk-toggleable__label fitted sk-toggleable__label-arrow fitted\">&nbsp;&nbsp;RandomForestClassifier<a class=\"sk-estimator-doc-link fitted\" rel=\"noreferrer\" target=\"_blank\" href=\"https://scikit-learn.org/1.5/modules/generated/sklearn.ensemble.RandomForestClassifier.html\">?<span>Documentation for RandomForestClassifier</span></a><span class=\"sk-estimator-doc-link fitted\">i<span>Fitted</span></span></label><div class=\"sk-toggleable__content fitted\"><pre>RandomForestClassifier(min_samples_split=5, random_state=0, verbose=1)</pre></div> </div></div></div></div>"
      ],
      "text/plain": [
       "RandomForestClassifier(min_samples_split=5, random_state=0, verbose=1)"
      ]
     },
     "execution_count": 49,
     "metadata": {},
     "output_type": "execute_result"
    }
   ],
   "source": [
    "from sklearn.ensemble import RandomForestClassifier\n",
    "\n",
    "rf = RandomForestClassifier(n_estimators=100, min_samples_split=5, random_state=0, verbose=1)\n",
    "rf.fit(X_quanti, y)"
   ]
  },
  {
   "cell_type": "code",
   "execution_count": 69,
   "metadata": {},
   "outputs": [
    {
     "name": "stdout",
     "output_type": "stream",
     "text": [
      "Proportion de participation des variables :\n",
      "                            Variable  Importance\n",
      "12  Conso_5_usages_par_m²_é_primaire    0.237429\n",
      "18      Emission_GES_5_usages_par_m²    0.166362\n",
      "42        Conso_5_usages/m²_é_finale    0.132487\n",
      "52         Conso_5_usages_é_primaire    0.024929\n",
      "26                    Coût_éclairage    0.023117\n",
      "29        Conso_chauffage_é_primaire    0.022408\n",
      "44        Surface_habitable_logement    0.021627\n",
      "6              Emission_GES_5_usages    0.018751\n",
      "30        Conso_éclairage_é_primaire    0.017424\n",
      "8           Conso_éclairage_é_finale    0.016679\n",
      "66                        Besoin_ECS    0.015914\n",
      "2             Emission_GES_chauffage    0.015874\n",
      "41        Coût_chauffage_énergie_n°1    0.015234\n"
     ]
    }
   ],
   "source": [
    "importances = rf.feature_importances_\n",
    "importance_df = pd.DataFrame({\n",
    "    'Variable': X_quanti.columns,\n",
    "    'Importance': importances\n",
    "}).sort_values(by='Importance', ascending=False)\n",
    "\n",
    "selected_importance_df = importance_df[importance_df['Importance'] > 0.015]\n",
    "# Afficher les proportions de participation des variables\n",
    "print(\"Proportion de participation des variables :\")\n",
    "print(selected_importance_df)\n",
    "final_var_quanti = selected_importance_df.Variable.to_list()"
   ]
  },
  {
   "cell_type": "code",
   "execution_count": 68,
   "metadata": {},
   "outputs": [
    {
     "data": {
      "text/plain": [
       "68"
      ]
     },
     "execution_count": 68,
     "metadata": {},
     "output_type": "execute_result"
    }
   ],
   "source": [
    "len(final_var_quanti)"
   ]
  },
  {
   "cell_type": "code",
   "execution_count": 51,
   "metadata": {},
   "outputs": [
    {
     "data": {
      "text/plain": [
       "(457318, 18)"
      ]
     },
     "execution_count": 51,
     "metadata": {},
     "output_type": "execute_result"
    }
   ],
   "source": [
    "select_var_quali = [\"Nom__commune_(BAN)\", \"Date_réception_DPE\", \"Date_fin_validité_DPE\", \"_geopoint\", \"Date_visite_diagnostiqueur\", \"Date_établissement_DPE\", \"Code_INSEE_(BAN)\", \"Statut_géocodage\", \"Adresse_brute\", \"Etiquette_DPE\"]\n",
    "X_quali = qualitative_data[qualitative_data.columns.difference(select_var_quali)]\n",
    "X_quali.shape"
   ]
  },
  {
   "cell_type": "code",
   "execution_count": 52,
   "metadata": {},
   "outputs": [
    {
     "data": {
      "text/plain": [
       "Index(['Classe_altitude', 'Classe_inertie_bâtiment', 'Etiquette_GES',\n",
       "       'Indicateur_confort_été', 'Logement', 'Modèle_DPE',\n",
       "       'Méthode_application_DPE', 'Qualité_isolation_enveloppe',\n",
       "       'Qualité_isolation_menuiseries', 'Qualité_isolation_murs',\n",
       "       'Qualité_isolation_plancher_bas', 'Type_bâtiment',\n",
       "       'Type_installation_ECS_(général)', 'Type_installation_chauffage',\n",
       "       'Type_énergie_n°1', 'Type_énergie_n°2',\n",
       "       'Type_énergie_principale_chauffage', 'Zone_climatique_'],\n",
       "      dtype='object')"
      ]
     },
     "execution_count": 52,
     "metadata": {},
     "output_type": "execute_result"
    }
   ],
   "source": [
    "X_quali.columns"
   ]
  },
  {
   "cell_type": "markdown",
   "metadata": {},
   "source": [
    "#### on va devoir subdiviser les données qualité en 2 partie pour trier les plus importantes"
   ]
  },
  {
   "cell_type": "code",
   "execution_count": 53,
   "metadata": {},
   "outputs": [],
   "source": [
    "X_quali = pd.get_dummies(X_quali, drop_first=True)"
   ]
  },
  {
   "cell_type": "code",
   "execution_count": 54,
   "metadata": {},
   "outputs": [
    {
     "name": "stderr",
     "output_type": "stream",
     "text": [
      "[Parallel(n_jobs=1)]: Done  49 tasks      | elapsed:   36.8s\n"
     ]
    },
    {
     "data": {
      "text/html": [
       "<style>#sk-container-id-2 {\n",
       "  /* Definition of color scheme common for light and dark mode */\n",
       "  --sklearn-color-text: black;\n",
       "  --sklearn-color-line: gray;\n",
       "  /* Definition of color scheme for unfitted estimators */\n",
       "  --sklearn-color-unfitted-level-0: #fff5e6;\n",
       "  --sklearn-color-unfitted-level-1: #f6e4d2;\n",
       "  --sklearn-color-unfitted-level-2: #ffe0b3;\n",
       "  --sklearn-color-unfitted-level-3: chocolate;\n",
       "  /* Definition of color scheme for fitted estimators */\n",
       "  --sklearn-color-fitted-level-0: #f0f8ff;\n",
       "  --sklearn-color-fitted-level-1: #d4ebff;\n",
       "  --sklearn-color-fitted-level-2: #b3dbfd;\n",
       "  --sklearn-color-fitted-level-3: cornflowerblue;\n",
       "\n",
       "  /* Specific color for light theme */\n",
       "  --sklearn-color-text-on-default-background: var(--sg-text-color, var(--theme-code-foreground, var(--jp-content-font-color1, black)));\n",
       "  --sklearn-color-background: var(--sg-background-color, var(--theme-background, var(--jp-layout-color0, white)));\n",
       "  --sklearn-color-border-box: var(--sg-text-color, var(--theme-code-foreground, var(--jp-content-font-color1, black)));\n",
       "  --sklearn-color-icon: #696969;\n",
       "\n",
       "  @media (prefers-color-scheme: dark) {\n",
       "    /* Redefinition of color scheme for dark theme */\n",
       "    --sklearn-color-text-on-default-background: var(--sg-text-color, var(--theme-code-foreground, var(--jp-content-font-color1, white)));\n",
       "    --sklearn-color-background: var(--sg-background-color, var(--theme-background, var(--jp-layout-color0, #111)));\n",
       "    --sklearn-color-border-box: var(--sg-text-color, var(--theme-code-foreground, var(--jp-content-font-color1, white)));\n",
       "    --sklearn-color-icon: #878787;\n",
       "  }\n",
       "}\n",
       "\n",
       "#sk-container-id-2 {\n",
       "  color: var(--sklearn-color-text);\n",
       "}\n",
       "\n",
       "#sk-container-id-2 pre {\n",
       "  padding: 0;\n",
       "}\n",
       "\n",
       "#sk-container-id-2 input.sk-hidden--visually {\n",
       "  border: 0;\n",
       "  clip: rect(1px 1px 1px 1px);\n",
       "  clip: rect(1px, 1px, 1px, 1px);\n",
       "  height: 1px;\n",
       "  margin: -1px;\n",
       "  overflow: hidden;\n",
       "  padding: 0;\n",
       "  position: absolute;\n",
       "  width: 1px;\n",
       "}\n",
       "\n",
       "#sk-container-id-2 div.sk-dashed-wrapped {\n",
       "  border: 1px dashed var(--sklearn-color-line);\n",
       "  margin: 0 0.4em 0.5em 0.4em;\n",
       "  box-sizing: border-box;\n",
       "  padding-bottom: 0.4em;\n",
       "  background-color: var(--sklearn-color-background);\n",
       "}\n",
       "\n",
       "#sk-container-id-2 div.sk-container {\n",
       "  /* jupyter's `normalize.less` sets `[hidden] { display: none; }`\n",
       "     but bootstrap.min.css set `[hidden] { display: none !important; }`\n",
       "     so we also need the `!important` here to be able to override the\n",
       "     default hidden behavior on the sphinx rendered scikit-learn.org.\n",
       "     See: https://github.com/scikit-learn/scikit-learn/issues/21755 */\n",
       "  display: inline-block !important;\n",
       "  position: relative;\n",
       "}\n",
       "\n",
       "#sk-container-id-2 div.sk-text-repr-fallback {\n",
       "  display: none;\n",
       "}\n",
       "\n",
       "div.sk-parallel-item,\n",
       "div.sk-serial,\n",
       "div.sk-item {\n",
       "  /* draw centered vertical line to link estimators */\n",
       "  background-image: linear-gradient(var(--sklearn-color-text-on-default-background), var(--sklearn-color-text-on-default-background));\n",
       "  background-size: 2px 100%;\n",
       "  background-repeat: no-repeat;\n",
       "  background-position: center center;\n",
       "}\n",
       "\n",
       "/* Parallel-specific style estimator block */\n",
       "\n",
       "#sk-container-id-2 div.sk-parallel-item::after {\n",
       "  content: \"\";\n",
       "  width: 100%;\n",
       "  border-bottom: 2px solid var(--sklearn-color-text-on-default-background);\n",
       "  flex-grow: 1;\n",
       "}\n",
       "\n",
       "#sk-container-id-2 div.sk-parallel {\n",
       "  display: flex;\n",
       "  align-items: stretch;\n",
       "  justify-content: center;\n",
       "  background-color: var(--sklearn-color-background);\n",
       "  position: relative;\n",
       "}\n",
       "\n",
       "#sk-container-id-2 div.sk-parallel-item {\n",
       "  display: flex;\n",
       "  flex-direction: column;\n",
       "}\n",
       "\n",
       "#sk-container-id-2 div.sk-parallel-item:first-child::after {\n",
       "  align-self: flex-end;\n",
       "  width: 50%;\n",
       "}\n",
       "\n",
       "#sk-container-id-2 div.sk-parallel-item:last-child::after {\n",
       "  align-self: flex-start;\n",
       "  width: 50%;\n",
       "}\n",
       "\n",
       "#sk-container-id-2 div.sk-parallel-item:only-child::after {\n",
       "  width: 0;\n",
       "}\n",
       "\n",
       "/* Serial-specific style estimator block */\n",
       "\n",
       "#sk-container-id-2 div.sk-serial {\n",
       "  display: flex;\n",
       "  flex-direction: column;\n",
       "  align-items: center;\n",
       "  background-color: var(--sklearn-color-background);\n",
       "  padding-right: 1em;\n",
       "  padding-left: 1em;\n",
       "}\n",
       "\n",
       "\n",
       "/* Toggleable style: style used for estimator/Pipeline/ColumnTransformer box that is\n",
       "clickable and can be expanded/collapsed.\n",
       "- Pipeline and ColumnTransformer use this feature and define the default style\n",
       "- Estimators will overwrite some part of the style using the `sk-estimator` class\n",
       "*/\n",
       "\n",
       "/* Pipeline and ColumnTransformer style (default) */\n",
       "\n",
       "#sk-container-id-2 div.sk-toggleable {\n",
       "  /* Default theme specific background. It is overwritten whether we have a\n",
       "  specific estimator or a Pipeline/ColumnTransformer */\n",
       "  background-color: var(--sklearn-color-background);\n",
       "}\n",
       "\n",
       "/* Toggleable label */\n",
       "#sk-container-id-2 label.sk-toggleable__label {\n",
       "  cursor: pointer;\n",
       "  display: block;\n",
       "  width: 100%;\n",
       "  margin-bottom: 0;\n",
       "  padding: 0.5em;\n",
       "  box-sizing: border-box;\n",
       "  text-align: center;\n",
       "}\n",
       "\n",
       "#sk-container-id-2 label.sk-toggleable__label-arrow:before {\n",
       "  /* Arrow on the left of the label */\n",
       "  content: \"▸\";\n",
       "  float: left;\n",
       "  margin-right: 0.25em;\n",
       "  color: var(--sklearn-color-icon);\n",
       "}\n",
       "\n",
       "#sk-container-id-2 label.sk-toggleable__label-arrow:hover:before {\n",
       "  color: var(--sklearn-color-text);\n",
       "}\n",
       "\n",
       "/* Toggleable content - dropdown */\n",
       "\n",
       "#sk-container-id-2 div.sk-toggleable__content {\n",
       "  max-height: 0;\n",
       "  max-width: 0;\n",
       "  overflow: hidden;\n",
       "  text-align: left;\n",
       "  /* unfitted */\n",
       "  background-color: var(--sklearn-color-unfitted-level-0);\n",
       "}\n",
       "\n",
       "#sk-container-id-2 div.sk-toggleable__content.fitted {\n",
       "  /* fitted */\n",
       "  background-color: var(--sklearn-color-fitted-level-0);\n",
       "}\n",
       "\n",
       "#sk-container-id-2 div.sk-toggleable__content pre {\n",
       "  margin: 0.2em;\n",
       "  border-radius: 0.25em;\n",
       "  color: var(--sklearn-color-text);\n",
       "  /* unfitted */\n",
       "  background-color: var(--sklearn-color-unfitted-level-0);\n",
       "}\n",
       "\n",
       "#sk-container-id-2 div.sk-toggleable__content.fitted pre {\n",
       "  /* unfitted */\n",
       "  background-color: var(--sklearn-color-fitted-level-0);\n",
       "}\n",
       "\n",
       "#sk-container-id-2 input.sk-toggleable__control:checked~div.sk-toggleable__content {\n",
       "  /* Expand drop-down */\n",
       "  max-height: 200px;\n",
       "  max-width: 100%;\n",
       "  overflow: auto;\n",
       "}\n",
       "\n",
       "#sk-container-id-2 input.sk-toggleable__control:checked~label.sk-toggleable__label-arrow:before {\n",
       "  content: \"▾\";\n",
       "}\n",
       "\n",
       "/* Pipeline/ColumnTransformer-specific style */\n",
       "\n",
       "#sk-container-id-2 div.sk-label input.sk-toggleable__control:checked~label.sk-toggleable__label {\n",
       "  color: var(--sklearn-color-text);\n",
       "  background-color: var(--sklearn-color-unfitted-level-2);\n",
       "}\n",
       "\n",
       "#sk-container-id-2 div.sk-label.fitted input.sk-toggleable__control:checked~label.sk-toggleable__label {\n",
       "  background-color: var(--sklearn-color-fitted-level-2);\n",
       "}\n",
       "\n",
       "/* Estimator-specific style */\n",
       "\n",
       "/* Colorize estimator box */\n",
       "#sk-container-id-2 div.sk-estimator input.sk-toggleable__control:checked~label.sk-toggleable__label {\n",
       "  /* unfitted */\n",
       "  background-color: var(--sklearn-color-unfitted-level-2);\n",
       "}\n",
       "\n",
       "#sk-container-id-2 div.sk-estimator.fitted input.sk-toggleable__control:checked~label.sk-toggleable__label {\n",
       "  /* fitted */\n",
       "  background-color: var(--sklearn-color-fitted-level-2);\n",
       "}\n",
       "\n",
       "#sk-container-id-2 div.sk-label label.sk-toggleable__label,\n",
       "#sk-container-id-2 div.sk-label label {\n",
       "  /* The background is the default theme color */\n",
       "  color: var(--sklearn-color-text-on-default-background);\n",
       "}\n",
       "\n",
       "/* On hover, darken the color of the background */\n",
       "#sk-container-id-2 div.sk-label:hover label.sk-toggleable__label {\n",
       "  color: var(--sklearn-color-text);\n",
       "  background-color: var(--sklearn-color-unfitted-level-2);\n",
       "}\n",
       "\n",
       "/* Label box, darken color on hover, fitted */\n",
       "#sk-container-id-2 div.sk-label.fitted:hover label.sk-toggleable__label.fitted {\n",
       "  color: var(--sklearn-color-text);\n",
       "  background-color: var(--sklearn-color-fitted-level-2);\n",
       "}\n",
       "\n",
       "/* Estimator label */\n",
       "\n",
       "#sk-container-id-2 div.sk-label label {\n",
       "  font-family: monospace;\n",
       "  font-weight: bold;\n",
       "  display: inline-block;\n",
       "  line-height: 1.2em;\n",
       "}\n",
       "\n",
       "#sk-container-id-2 div.sk-label-container {\n",
       "  text-align: center;\n",
       "}\n",
       "\n",
       "/* Estimator-specific */\n",
       "#sk-container-id-2 div.sk-estimator {\n",
       "  font-family: monospace;\n",
       "  border: 1px dotted var(--sklearn-color-border-box);\n",
       "  border-radius: 0.25em;\n",
       "  box-sizing: border-box;\n",
       "  margin-bottom: 0.5em;\n",
       "  /* unfitted */\n",
       "  background-color: var(--sklearn-color-unfitted-level-0);\n",
       "}\n",
       "\n",
       "#sk-container-id-2 div.sk-estimator.fitted {\n",
       "  /* fitted */\n",
       "  background-color: var(--sklearn-color-fitted-level-0);\n",
       "}\n",
       "\n",
       "/* on hover */\n",
       "#sk-container-id-2 div.sk-estimator:hover {\n",
       "  /* unfitted */\n",
       "  background-color: var(--sklearn-color-unfitted-level-2);\n",
       "}\n",
       "\n",
       "#sk-container-id-2 div.sk-estimator.fitted:hover {\n",
       "  /* fitted */\n",
       "  background-color: var(--sklearn-color-fitted-level-2);\n",
       "}\n",
       "\n",
       "/* Specification for estimator info (e.g. \"i\" and \"?\") */\n",
       "\n",
       "/* Common style for \"i\" and \"?\" */\n",
       "\n",
       ".sk-estimator-doc-link,\n",
       "a:link.sk-estimator-doc-link,\n",
       "a:visited.sk-estimator-doc-link {\n",
       "  float: right;\n",
       "  font-size: smaller;\n",
       "  line-height: 1em;\n",
       "  font-family: monospace;\n",
       "  background-color: var(--sklearn-color-background);\n",
       "  border-radius: 1em;\n",
       "  height: 1em;\n",
       "  width: 1em;\n",
       "  text-decoration: none !important;\n",
       "  margin-left: 1ex;\n",
       "  /* unfitted */\n",
       "  border: var(--sklearn-color-unfitted-level-1) 1pt solid;\n",
       "  color: var(--sklearn-color-unfitted-level-1);\n",
       "}\n",
       "\n",
       ".sk-estimator-doc-link.fitted,\n",
       "a:link.sk-estimator-doc-link.fitted,\n",
       "a:visited.sk-estimator-doc-link.fitted {\n",
       "  /* fitted */\n",
       "  border: var(--sklearn-color-fitted-level-1) 1pt solid;\n",
       "  color: var(--sklearn-color-fitted-level-1);\n",
       "}\n",
       "\n",
       "/* On hover */\n",
       "div.sk-estimator:hover .sk-estimator-doc-link:hover,\n",
       ".sk-estimator-doc-link:hover,\n",
       "div.sk-label-container:hover .sk-estimator-doc-link:hover,\n",
       ".sk-estimator-doc-link:hover {\n",
       "  /* unfitted */\n",
       "  background-color: var(--sklearn-color-unfitted-level-3);\n",
       "  color: var(--sklearn-color-background);\n",
       "  text-decoration: none;\n",
       "}\n",
       "\n",
       "div.sk-estimator.fitted:hover .sk-estimator-doc-link.fitted:hover,\n",
       ".sk-estimator-doc-link.fitted:hover,\n",
       "div.sk-label-container:hover .sk-estimator-doc-link.fitted:hover,\n",
       ".sk-estimator-doc-link.fitted:hover {\n",
       "  /* fitted */\n",
       "  background-color: var(--sklearn-color-fitted-level-3);\n",
       "  color: var(--sklearn-color-background);\n",
       "  text-decoration: none;\n",
       "}\n",
       "\n",
       "/* Span, style for the box shown on hovering the info icon */\n",
       ".sk-estimator-doc-link span {\n",
       "  display: none;\n",
       "  z-index: 9999;\n",
       "  position: relative;\n",
       "  font-weight: normal;\n",
       "  right: .2ex;\n",
       "  padding: .5ex;\n",
       "  margin: .5ex;\n",
       "  width: min-content;\n",
       "  min-width: 20ex;\n",
       "  max-width: 50ex;\n",
       "  color: var(--sklearn-color-text);\n",
       "  box-shadow: 2pt 2pt 4pt #999;\n",
       "  /* unfitted */\n",
       "  background: var(--sklearn-color-unfitted-level-0);\n",
       "  border: .5pt solid var(--sklearn-color-unfitted-level-3);\n",
       "}\n",
       "\n",
       ".sk-estimator-doc-link.fitted span {\n",
       "  /* fitted */\n",
       "  background: var(--sklearn-color-fitted-level-0);\n",
       "  border: var(--sklearn-color-fitted-level-3);\n",
       "}\n",
       "\n",
       ".sk-estimator-doc-link:hover span {\n",
       "  display: block;\n",
       "}\n",
       "\n",
       "/* \"?\"-specific style due to the `<a>` HTML tag */\n",
       "\n",
       "#sk-container-id-2 a.estimator_doc_link {\n",
       "  float: right;\n",
       "  font-size: 1rem;\n",
       "  line-height: 1em;\n",
       "  font-family: monospace;\n",
       "  background-color: var(--sklearn-color-background);\n",
       "  border-radius: 1rem;\n",
       "  height: 1rem;\n",
       "  width: 1rem;\n",
       "  text-decoration: none;\n",
       "  /* unfitted */\n",
       "  color: var(--sklearn-color-unfitted-level-1);\n",
       "  border: var(--sklearn-color-unfitted-level-1) 1pt solid;\n",
       "}\n",
       "\n",
       "#sk-container-id-2 a.estimator_doc_link.fitted {\n",
       "  /* fitted */\n",
       "  border: var(--sklearn-color-fitted-level-1) 1pt solid;\n",
       "  color: var(--sklearn-color-fitted-level-1);\n",
       "}\n",
       "\n",
       "/* On hover */\n",
       "#sk-container-id-2 a.estimator_doc_link:hover {\n",
       "  /* unfitted */\n",
       "  background-color: var(--sklearn-color-unfitted-level-3);\n",
       "  color: var(--sklearn-color-background);\n",
       "  text-decoration: none;\n",
       "}\n",
       "\n",
       "#sk-container-id-2 a.estimator_doc_link.fitted:hover {\n",
       "  /* fitted */\n",
       "  background-color: var(--sklearn-color-fitted-level-3);\n",
       "}\n",
       "</style><div id=\"sk-container-id-2\" class=\"sk-top-container\"><div class=\"sk-text-repr-fallback\"><pre>RandomForestClassifier(min_samples_split=5, random_state=0, verbose=1)</pre><b>In a Jupyter environment, please rerun this cell to show the HTML representation or trust the notebook. <br />On GitHub, the HTML representation is unable to render, please try loading this page with nbviewer.org.</b></div><div class=\"sk-container\" hidden><div class=\"sk-item\"><div class=\"sk-estimator fitted sk-toggleable\"><input class=\"sk-toggleable__control sk-hidden--visually\" id=\"sk-estimator-id-2\" type=\"checkbox\" checked><label for=\"sk-estimator-id-2\" class=\"sk-toggleable__label fitted sk-toggleable__label-arrow fitted\">&nbsp;&nbsp;RandomForestClassifier<a class=\"sk-estimator-doc-link fitted\" rel=\"noreferrer\" target=\"_blank\" href=\"https://scikit-learn.org/1.5/modules/generated/sklearn.ensemble.RandomForestClassifier.html\">?<span>Documentation for RandomForestClassifier</span></a><span class=\"sk-estimator-doc-link fitted\">i<span>Fitted</span></span></label><div class=\"sk-toggleable__content fitted\"><pre>RandomForestClassifier(min_samples_split=5, random_state=0, verbose=1)</pre></div> </div></div></div></div>"
      ],
      "text/plain": [
       "RandomForestClassifier(min_samples_split=5, random_state=0, verbose=1)"
      ]
     },
     "execution_count": 54,
     "metadata": {},
     "output_type": "execute_result"
    }
   ],
   "source": [
    "rf_quali = RandomForestClassifier(n_estimators=100, min_samples_split=5, random_state=0, verbose=1)\n",
    "rf_quali.fit(X_quali, y)"
   ]
  },
  {
   "cell_type": "code",
   "execution_count": 62,
   "metadata": {},
   "outputs": [
    {
     "name": "stdout",
     "output_type": "stream",
     "text": [
      "Proportion de participation des variables :\n",
      "                                             Variable  Importance\n",
      "6                                     Etiquette_GES_C    0.145562\n",
      "5                                     Etiquette_GES_B    0.119349\n",
      "7                                     Etiquette_GES_D    0.094594\n",
      "8                                     Etiquette_GES_E    0.062187\n",
      "9                                     Etiquette_GES_F    0.040486\n",
      "..                                                ...         ...\n",
      "36          Qualité_isolation_plancher_bas_très bonne    0.010572\n",
      "29              Qualité_isolation_menuiseries_moyenne    0.009310\n",
      "26                Qualité_isolation_enveloppe_moyenne    0.009007\n",
      "2                      Classe_inertie_bâtiment_Légère    0.008623\n",
      "23  Méthode_application_DPE_dpe issu d'une étude t...    0.008476\n",
      "\n",
      "[27 rows x 2 columns]\n"
     ]
    }
   ],
   "source": [
    "importances = rf_quali.feature_importances_\n",
    "importance_df = pd.DataFrame({\n",
    "    'Variable': X_quali.columns,\n",
    "    'Importance': importances\n",
    "}).sort_values(by='Importance', ascending=False)\n",
    "importance_df_select = importance_df[importance_df['Importance'] > 0.008]\n",
    "\n",
    "# Afficher les proportions de participation des variables\n",
    "print(\"Proportion de participation des variables :\")\n",
    "print(importance_df_select)"
   ]
  },
  {
   "cell_type": "code",
   "execution_count": 70,
   "metadata": {},
   "outputs": [],
   "source": [
    "final_var_quali = [\"Etiquette_GES\", \"Qualité_isolation_murs\", \"Type_énergie_n°1\", \"Qualité_isolation_enveloppe\", \"Logement\", \"Type_énergie_n°1\", \"Type_énergie_n°2\", \"Type_énergie_principale_chauffage\", \"Qualité_isolation_menuiseries\", \"Modèle_DPE\", \"Type_bâtiment\", \"Qualité_isolation_plancher_bas\"]\n"
   ]
  },
  {
   "cell_type": "code",
   "execution_count": 71,
   "metadata": {},
   "outputs": [],
   "source": [
    "# X, y final après sélection de variables pour apprentissage\n",
    "\n",
    "final_vars = final_var_quali + final_var_quanti\n",
    "\n",
    "X = df_processed[final_vars]\n",
    "y = df_processed[\"Etiquette_DPE\"]"
   ]
  },
  {
   "cell_type": "code",
   "execution_count": 72,
   "metadata": {},
   "outputs": [
    {
     "data": {
      "text/plain": [
       "25"
      ]
     },
     "execution_count": 72,
     "metadata": {},
     "output_type": "execute_result"
    }
   ],
   "source": [
    "len(final_vars)"
   ]
  },
  {
   "cell_type": "markdown",
   "metadata": {},
   "source": [
    "### Apprentissage supervisé"
   ]
  },
  {
   "cell_type": "code",
   "execution_count": null,
   "metadata": {},
   "outputs": [],
   "source": [
    "# "
   ]
  }
 ],
 "metadata": {
  "kernelspec": {
   "display_name": ".venv",
   "language": "python",
   "name": "python3"
  },
  "language_info": {
   "codemirror_mode": {
    "name": "ipython",
    "version": 3
   },
   "file_extension": ".py",
   "mimetype": "text/x-python",
   "name": "python",
   "nbconvert_exporter": "python",
   "pygments_lexer": "ipython3",
   "version": "3.11.5"
  }
 },
 "nbformat": 4,
 "nbformat_minor": 2
}
